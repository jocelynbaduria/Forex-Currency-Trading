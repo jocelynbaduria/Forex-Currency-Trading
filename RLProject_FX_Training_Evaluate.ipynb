{
  "nbformat": 4,
  "nbformat_minor": 0,
  "metadata": {
    "colab": {
      "name": "RLProject_FX_Training_Evaluate.ipynb",
      "provenance": [],
      "collapsed_sections": [],
      "include_colab_link": true
    },
    "kernelspec": {
      "name": "python3",
      "display_name": "Python 3"
    },
    "language_info": {
      "name": "python"
    }
  },
  "cells": [
    {
      "cell_type": "markdown",
      "metadata": {
        "id": "view-in-github",
        "colab_type": "text"
      },
      "source": [
        "<a href=\"https://colab.research.google.com/github/jocelynbaduria/Forex-Currency-Trading/blob/main/RLProject_FX_Training_Evaluate.ipynb\" target=\"_parent\"><img src=\"https://colab.research.google.com/assets/colab-badge.svg\" alt=\"Open In Colab\"/></a>"
      ]
    },
    {
      "cell_type": "code",
      "metadata": {
        "colab": {
          "base_uri": "https://localhost:8080/"
        },
        "id": "bZlGIqzzuT9u",
        "outputId": "f867d388-23b9-4395-94fb-ef2e1770b087"
      },
      "source": [
        "from google.colab import drive\n",
        "drive.mount('/content/drive')"
      ],
      "execution_count": 1,
      "outputs": [
        {
          "output_type": "stream",
          "name": "stdout",
          "text": [
            "Mounted at /content/drive\n"
          ]
        }
      ]
    },
    {
      "cell_type": "code",
      "metadata": {
        "id": "n8kCOdibutm3"
      },
      "source": [
        "!pip install coloredlogs -q"
      ],
      "execution_count": 3,
      "outputs": []
    },
    {
      "cell_type": "code",
      "metadata": {
        "colab": {
          "base_uri": "https://localhost:8080/"
        },
        "id": "zKOVR2xPu0iq",
        "outputId": "a144a80a-35ed-4a64-8910-950f600beb27"
      },
      "source": [
        "!pip install ta==0.5.11 -q"
      ],
      "execution_count": 4,
      "outputs": [
        {
          "output_type": "stream",
          "name": "stdout",
          "text": [
            "  Building wheel for ta (setup.py) ... \u001b[?25l\u001b[?25hdone\n"
          ]
        }
      ]
    },
    {
      "cell_type": "code",
      "metadata": {
        "colab": {
          "base_uri": "https://localhost:8080/"
        },
        "id": "vgTPbe4su48s",
        "outputId": "a0bc1ab1-3e61-47ad-c336-7837a013978c"
      },
      "source": [
        "%cd /content/drive/Shareddrives/cmpe_260_RL_Project/code/RL-DeepQLearning-Tradingv1/"
      ],
      "execution_count": 6,
      "outputs": [
        {
          "output_type": "stream",
          "name": "stdout",
          "text": [
            "/content/drive/Shareddrives/cmpe_260_RL_Project/code/RL-DeepQLearning-Tradingv1\n"
          ]
        }
      ]
    },
    {
      "cell_type": "markdown",
      "metadata": {
        "id": "odM6hIpN1EyY"
      },
      "source": [
        "### Train EUR currency (pg_1638400054_10)"
      ]
    },
    {
      "cell_type": "code",
      "metadata": {
        "colab": {
          "base_uri": "https://localhost:8080/"
        },
        "id": "O-L3j65au8sg",
        "outputId": "6bce4fb8-7ad6-4d95-84ea-8c230a6a2599"
      },
      "source": [
        "!python train.py --train data/EUR_11_09_21.csv --valid data/EUR_11_09_21.csv --model-type=pg --episode-count 50 --window-size 10"
      ],
      "execution_count": 8,
      "outputs": [
        {
          "output_type": "stream",
          "name": "stdout",
          "text": [
            "\u001b[32m2021-12-01 23:03:58\u001b[0m \u001b[35m7185bf23d876\u001b[0m \u001b[34mroot[131990]\u001b[0m \u001b[1;30mDEBUG\u001b[0m \u001b[32mSwitching --> TensorFlow for CPU\u001b[0m\n",
            "\u001b[32m2021-12-01 23:03:59\u001b[0m \u001b[35m7185bf23d876\u001b[0m \u001b[34mnumexpr.utils[131990]\u001b[0m \u001b[1;30mINFO\u001b[0m NumExpr defaulting to 2 threads.\n",
            "Using policy gradient model\n",
            "/usr/local/lib/python3.7/dist-packages/keras/optimizer_v2/adam.py:105: UserWarning:\n",
            "\n",
            "The `lr` argument is deprecated, use `learning_rate` instead.\n",
            "\n",
            "2021-12-01 23:03:59.503226: E tensorflow/stream_executor/cuda/cuda_driver.cc:271] failed call to cuInit: CUDA_ERROR_NO_DEVICE: no CUDA-capable device is detected\n",
            "Model: \"sequential\"\n",
            "_________________________________________________________________\n",
            " Layer (type)                Output Shape              Param #   \n",
            "=================================================================\n",
            " dense (Dense)               (None, 256)               7424      \n",
            "                                                                 \n",
            " dense_1 (Dense)             (None, 512)               131584    \n",
            "                                                                 \n",
            " dense_2 (Dense)             (None, 512)               262656    \n",
            "                                                                 \n",
            " dense_3 (Dense)             (None, 256)               131328    \n",
            "                                                                 \n",
            " dense_4 (Dense)             (None, 3)                 771       \n",
            "                                                                 \n",
            "=================================================================\n",
            "Total params: 533,763\n",
            "Trainable params: 533,763\n",
            "Non-trainable params: 0\n",
            "_________________________________________________________________\n",
            "9/9 [==============================] - 1s 8ms/step - loss: 0.0016\n",
            "Episode 1/50: 100% 261/262 [00:11<00:00, 21.78it/s]\n",
            "\u001b[32m2021-12-01 23:04:23\u001b[0m \u001b[35m7185bf23d876\u001b[0m \u001b[34mroot[131990]\u001b[0m \u001b[1;30mINFO\u001b[0m Episode 1/50 - Train Position: -$472.49349279181416  Val Position: +$9.013241730300702  Train Loss: 0.0016311983345076442)\n",
            "9/9 [==============================] - 0s 9ms/step - loss: 8.9477e-04\n",
            "Episode 2/50: 100% 261/262 [00:11<00:00, 23.03it/s]\n",
            "\u001b[32m2021-12-01 23:04:47\u001b[0m \u001b[35m7185bf23d876\u001b[0m \u001b[34mroot[131990]\u001b[0m \u001b[1;30mINFO\u001b[0m Episode 2/50 - Train Position: +$792.4853021234409  Val Position: +$19.273564822551016  Train Loss: 0.0008947711321525276)\n",
            "9/9 [==============================] - 0s 9ms/step - loss: 9.8959e-04\n",
            "Episode 3/50: 100% 261/262 [00:11<00:00, 22.40it/s]\n",
            "\u001b[32m2021-12-01 23:05:11\u001b[0m \u001b[35m7185bf23d876\u001b[0m \u001b[34mroot[131990]\u001b[0m \u001b[1;30mINFO\u001b[0m Episode 3/50 - Train Position: +$913.9185442444874  Val Position: +$19.82238549048057  Train Loss: 0.0009895854163914919)\n",
            "9/9 [==============================] - 0s 9ms/step - loss: 9.4629e-04\n",
            "Episode 4/50: 100% 261/262 [00:11<00:00, 22.87it/s]\n",
            "\u001b[32m2021-12-01 23:05:35\u001b[0m \u001b[35m7185bf23d876\u001b[0m \u001b[34mroot[131990]\u001b[0m \u001b[1;30mINFO\u001b[0m Episode 4/50 - Train Position: +$7127.924491378563  Val Position: +$20.357624339956324  Train Loss: 0.0009462946327403188)\n",
            "9/9 [==============================] - 0s 9ms/step - loss: 0.0010\n",
            "Episode 5/50: 100% 261/262 [00:11<00:00, 23.08it/s]\n",
            "\u001b[32m2021-12-01 23:05:58\u001b[0m \u001b[35m7185bf23d876\u001b[0m \u001b[34mroot[131990]\u001b[0m \u001b[1;30mINFO\u001b[0m Episode 5/50 - Train Position: +$10949.46040326096  Val Position: +$20.315699863555018  Train Loss: 0.0010093430755659938)\n",
            "9/9 [==============================] - 0s 8ms/step - loss: 9.7743e-04\n",
            "Episode 6/50: 100% 261/262 [00:11<00:00, 23.52it/s]\n",
            "\u001b[32m2021-12-01 23:06:22\u001b[0m \u001b[35m7185bf23d876\u001b[0m \u001b[34mroot[131990]\u001b[0m \u001b[1;30mINFO\u001b[0m Episode 6/50 - Train Position: +$10942.830238859311  Val Position: +$20.166211692943435  Train Loss: 0.0009774327045306563)\n",
            "9/9 [==============================] - 0s 8ms/step - loss: 9.9774e-04\n",
            "Episode 7/50: 100% 261/262 [00:11<00:00, 22.55it/s]\n",
            "\u001b[32m2021-12-01 23:06:45\u001b[0m \u001b[35m7185bf23d876\u001b[0m \u001b[34mroot[131990]\u001b[0m \u001b[1;30mINFO\u001b[0m Episode 7/50 - Train Position: +$11716.057051917329  Val Position: +$20.108711114509866  Train Loss: 0.0009977385634556413)\n",
            "9/9 [==============================] - 0s 8ms/step - loss: 0.0011\n",
            "Episode 8/50: 100% 261/262 [00:11<00:00, 22.61it/s]\n",
            "\u001b[32m2021-12-01 23:07:09\u001b[0m \u001b[35m7185bf23d876\u001b[0m \u001b[34mroot[131990]\u001b[0m \u001b[1;30mINFO\u001b[0m Episode 8/50 - Train Position: +$16060.2068020338  Val Position: +$20.443375420488202  Train Loss: 0.0010955518810078502)\n",
            "9/9 [==============================] - 0s 8ms/step - loss: 0.0011\n",
            "Episode 9/50: 100% 261/262 [00:11<00:00, 23.06it/s]\n",
            "\u001b[32m2021-12-01 23:07:33\u001b[0m \u001b[35m7185bf23d876\u001b[0m \u001b[34mroot[131990]\u001b[0m \u001b[1;30mINFO\u001b[0m Episode 9/50 - Train Position: +$15781.194847494433  Val Position: +$19.66280742936035  Train Loss: 0.0011016603093594313)\n",
            "Episode 10/50:   0% 0/262 [00:00<?, ?it/s]2021-12-01 23:07:34.056794: W tensorflow/python/util/util.cc:368] Sets are not currently considered sequences, but this may change in the future, so consider avoiding using them.\n",
            "INFO:tensorflow:Assets written to: models/pg_1638400054_10/assets\n",
            "\u001b[32m2021-12-01 23:07:34\u001b[0m \u001b[35m7185bf23d876\u001b[0m \u001b[34mtensorflow[131990]\u001b[0m \u001b[1;30mINFO\u001b[0m Assets written to: models/pg_1638400054_10/assets\n",
            "9/9 [==============================] - 0s 8ms/step - loss: 9.5658e-04\n",
            "Episode 10/50: 100% 261/262 [00:12<00:00, 21.15it/s]\n",
            "\u001b[32m2021-12-01 23:07:58\u001b[0m \u001b[35m7185bf23d876\u001b[0m \u001b[34mroot[131990]\u001b[0m \u001b[1;30mINFO\u001b[0m Episode 10/50 - Train Position: +$11650.976742510136  Val Position: +$20.25417293487188  Train Loss: 0.000956581614445895)\n",
            "9/9 [==============================] - 0s 9ms/step - loss: 0.0011\n",
            "Episode 11/50: 100% 261/262 [00:11<00:00, 22.85it/s]\n",
            "\u001b[32m2021-12-01 23:08:22\u001b[0m \u001b[35m7185bf23d876\u001b[0m \u001b[34mroot[131990]\u001b[0m \u001b[1;30mINFO\u001b[0m Episode 11/50 - Train Position: +$15370.8676180979  Val Position: +$20.427191194202052  Train Loss: 0.0011073158821091056)\n",
            "9/9 [==============================] - 0s 9ms/step - loss: 0.0011\n",
            "Episode 12/50: 100% 261/262 [00:11<00:00, 23.35it/s]\n",
            "\u001b[32m2021-12-01 23:08:45\u001b[0m \u001b[35m7185bf23d876\u001b[0m \u001b[34mroot[131990]\u001b[0m \u001b[1;30mINFO\u001b[0m Episode 12/50 - Train Position: +$17054.520947864356  Val Position: +$20.291810804738184  Train Loss: 0.001082873553968966)\n",
            "9/9 [==============================] - 0s 10ms/step - loss: 8.6706e-04\n",
            "Episode 13/50: 100% 261/262 [00:11<00:00, 22.73it/s]\n",
            "\u001b[32m2021-12-01 23:09:09\u001b[0m \u001b[35m7185bf23d876\u001b[0m \u001b[34mroot[131990]\u001b[0m \u001b[1;30mINFO\u001b[0m Episode 13/50 - Train Position: +$17668.52105419507  Val Position: +$20.381652778268602  Train Loss: 0.0008670557290315628)\n",
            "9/9 [==============================] - 0s 8ms/step - loss: 8.8791e-04\n",
            "Episode 14/50: 100% 261/262 [00:11<00:00, 23.21it/s]\n",
            "\u001b[32m2021-12-01 23:09:33\u001b[0m \u001b[35m7185bf23d876\u001b[0m \u001b[34mroot[131990]\u001b[0m \u001b[1;30mINFO\u001b[0m Episode 14/50 - Train Position: +$16629.335802305042  Val Position: +$20.110361292615934  Train Loss: 0.0008879070519469678)\n",
            "9/9 [==============================] - 0s 9ms/step - loss: 0.0010\n",
            "Episode 15/50: 100% 261/262 [00:11<00:00, 23.25it/s]\n",
            "\u001b[32m2021-12-01 23:09:57\u001b[0m \u001b[35m7185bf23d876\u001b[0m \u001b[34mroot[131990]\u001b[0m \u001b[1;30mINFO\u001b[0m Episode 15/50 - Train Position: +$16956.895741246626  Val Position: +$20.481013290354504  Train Loss: 0.0010141059756278992)\n",
            "9/9 [==============================] - 0s 8ms/step - loss: 0.0011\n",
            "Episode 16/50: 100% 261/262 [00:11<00:00, 22.81it/s]\n",
            "\u001b[32m2021-12-01 23:10:20\u001b[0m \u001b[35m7185bf23d876\u001b[0m \u001b[34mroot[131990]\u001b[0m \u001b[1;30mINFO\u001b[0m Episode 16/50 - Train Position: +$18163.29749857807  Val Position: +$20.363649716681863  Train Loss: 0.0010590951424092054)\n",
            "9/9 [==============================] - 0s 8ms/step - loss: 8.7994e-04\n",
            "Episode 17/50: 100% 261/262 [00:11<00:00, 22.58it/s]\n",
            "\u001b[32m2021-12-01 23:10:44\u001b[0m \u001b[35m7185bf23d876\u001b[0m \u001b[34mroot[131990]\u001b[0m \u001b[1;30mINFO\u001b[0m Episode 17/50 - Train Position: +$18022.37898835445  Val Position: +$20.454066303072125  Train Loss: 0.0008799437200650573)\n",
            "9/9 [==============================] - 0s 9ms/step - loss: 7.7156e-04\n",
            "Episode 18/50: 100% 261/262 [00:11<00:00, 23.19it/s]\n",
            "\u001b[32m2021-12-01 23:11:08\u001b[0m \u001b[35m7185bf23d876\u001b[0m \u001b[34mroot[131990]\u001b[0m \u001b[1;30mINFO\u001b[0m Episode 18/50 - Train Position: +$16468.30805246449  Val Position: +$20.55595611026908  Train Loss: 0.0007715641986578703)\n",
            "9/9 [==============================] - 0s 8ms/step - loss: 0.0010\n",
            "Episode 19/50: 100% 261/262 [00:11<00:00, 23.30it/s]\n",
            "\u001b[32m2021-12-01 23:11:32\u001b[0m \u001b[35m7185bf23d876\u001b[0m \u001b[34mroot[131990]\u001b[0m \u001b[1;30mINFO\u001b[0m Episode 19/50 - Train Position: +$18058.518151762568  Val Position: +$19.081559494290367  Train Loss: 0.0010391194373369217)\n",
            "9/9 [==============================] - 0s 8ms/step - loss: 0.0014\n",
            "Episode 20/50: 100% 261/262 [00:11<00:00, 23.18it/s]\n",
            "\u001b[32m2021-12-01 23:11:55\u001b[0m \u001b[35m7185bf23d876\u001b[0m \u001b[34mroot[131990]\u001b[0m \u001b[1;30mINFO\u001b[0m Episode 20/50 - Train Position: +$16909.029624759125  Val Position: +$19.01986832123039  Train Loss: 0.0013550948351621628)\n",
            "9/9 [==============================] - 0s 8ms/step - loss: 6.3598e-04\n",
            "Episode 21/50: 100% 261/262 [00:11<00:00, 22.52it/s]\n",
            "\u001b[32m2021-12-01 23:12:19\u001b[0m \u001b[35m7185bf23d876\u001b[0m \u001b[34mroot[131990]\u001b[0m \u001b[1;30mINFO\u001b[0m Episode 21/50 - Train Position: +$18362.558603536923  Val Position: +$19.378214979121886  Train Loss: 0.0006359772523865104)\n",
            "9/9 [==============================] - 0s 8ms/step - loss: 7.6473e-04\n",
            "Episode 22/50: 100% 261/262 [00:11<00:00, 23.09it/s]\n",
            "\u001b[32m2021-12-01 23:12:43\u001b[0m \u001b[35m7185bf23d876\u001b[0m \u001b[34mroot[131990]\u001b[0m \u001b[1;30mINFO\u001b[0m Episode 22/50 - Train Position: +$17071.99968205823  Val Position: +$19.911227493738544  Train Loss: 0.0007647342281416059)\n",
            "9/9 [==============================] - 0s 8ms/step - loss: 8.7810e-04\n",
            "Episode 23/50: 100% 261/262 [00:11<00:00, 23.23it/s]\n",
            "\u001b[32m2021-12-01 23:13:06\u001b[0m \u001b[35m7185bf23d876\u001b[0m \u001b[34mroot[131990]\u001b[0m \u001b[1;30mINFO\u001b[0m Episode 23/50 - Train Position: +$16603.892882908247  Val Position: +$19.16541156658097  Train Loss: 0.0008781005744822323)\n",
            "9/9 [==============================] - 0s 9ms/step - loss: 7.7150e-04\n",
            "Episode 24/50: 100% 261/262 [00:11<00:00, 22.95it/s]\n",
            "\u001b[32m2021-12-01 23:13:30\u001b[0m \u001b[35m7185bf23d876\u001b[0m \u001b[34mroot[131990]\u001b[0m \u001b[1;30mINFO\u001b[0m Episode 24/50 - Train Position: +$18436.817344668558  Val Position: +$19.372436038548898  Train Loss: 0.0007714953972026706)\n",
            "9/9 [==============================] - 0s 8ms/step - loss: 6.7683e-04\n",
            "Episode 25/50: 100% 261/262 [00:11<00:00, 22.73it/s]\n",
            "\u001b[32m2021-12-01 23:13:54\u001b[0m \u001b[35m7185bf23d876\u001b[0m \u001b[34mroot[131990]\u001b[0m \u001b[1;30mINFO\u001b[0m Episode 25/50 - Train Position: +$16490.149532422394  Val Position: +$19.58085486828771  Train Loss: 0.0006768250023014843)\n",
            "9/9 [==============================] - 0s 9ms/step - loss: 6.1982e-04\n",
            "Episode 26/50: 100% 261/262 [00:11<00:00, 23.34it/s]\n",
            "\u001b[32m2021-12-01 23:14:18\u001b[0m \u001b[35m7185bf23d876\u001b[0m \u001b[34mroot[131990]\u001b[0m \u001b[1;30mINFO\u001b[0m Episode 26/50 - Train Position: +$17382.062635147897  Val Position: +$20.06444553378065  Train Loss: 0.000619816011749208)\n",
            "9/9 [==============================] - 0s 9ms/step - loss: 7.3737e-04\n",
            "Episode 27/50: 100% 261/262 [00:11<00:00, 22.96it/s]\n",
            "\u001b[32m2021-12-01 23:14:41\u001b[0m \u001b[35m7185bf23d876\u001b[0m \u001b[34mroot[131990]\u001b[0m \u001b[1;30mINFO\u001b[0m Episode 27/50 - Train Position: +$18927.94581352334  Val Position: +$20.18934589606613  Train Loss: 0.0007373685948550701)\n",
            "9/9 [==============================] - 0s 8ms/step - loss: 6.1514e-04\n",
            "Episode 28/50: 100% 261/262 [00:11<00:00, 23.15it/s]\n",
            "\u001b[32m2021-12-01 23:15:05\u001b[0m \u001b[35m7185bf23d876\u001b[0m \u001b[34mroot[131990]\u001b[0m \u001b[1;30mINFO\u001b[0m Episode 28/50 - Train Position: +$18001.97658055836  Val Position: +$20.208012320290408  Train Loss: 0.0006151400739327073)\n",
            "9/9 [==============================] - 0s 8ms/step - loss: 7.1361e-04\n",
            "Episode 29/50: 100% 261/262 [00:11<00:00, 22.72it/s]\n",
            "\u001b[32m2021-12-01 23:15:29\u001b[0m \u001b[35m7185bf23d876\u001b[0m \u001b[34mroot[131990]\u001b[0m \u001b[1;30mINFO\u001b[0m Episode 29/50 - Train Position: +$18151.50811299437  Val Position: +$19.824944391851766  Train Loss: 0.0007136142812669277)\n",
            "9/9 [==============================] - 0s 8ms/step - loss: 5.5737e-04\n",
            "Episode 30/50: 100% 261/262 [00:11<00:00, 23.50it/s]\n",
            "\u001b[32m2021-12-01 23:15:52\u001b[0m \u001b[35m7185bf23d876\u001b[0m \u001b[34mroot[131990]\u001b[0m \u001b[1;30mINFO\u001b[0m Episode 30/50 - Train Position: +$18774.899113588806  Val Position: +$19.886635564911742  Train Loss: 0.0005573664093390107)\n",
            "9/9 [==============================] - 0s 8ms/step - loss: 6.3100e-04\n",
            "Episode 31/50: 100% 261/262 [00:11<00:00, 23.26it/s]\n",
            "\u001b[32m2021-12-01 23:16:16\u001b[0m \u001b[35m7185bf23d876\u001b[0m \u001b[34mroot[131990]\u001b[0m \u001b[1;30mINFO\u001b[0m Episode 31/50 - Train Position: +$17673.106005247915  Val Position: +$19.700701157151194  Train Loss: 0.0006310032913461328)\n",
            "9/9 [==============================] - 0s 8ms/step - loss: 7.5912e-04\n",
            "Episode 32/50: 100% 261/262 [00:11<00:00, 23.11it/s]\n",
            "\u001b[32m2021-12-01 23:16:39\u001b[0m \u001b[35m7185bf23d876\u001b[0m \u001b[34mroot[131990]\u001b[0m \u001b[1;30mINFO\u001b[0m Episode 32/50 - Train Position: +$18339.10368042647  Val Position: +$19.686080308782294  Train Loss: 0.0007591224857605994)\n",
            "9/9 [==============================] - 0s 9ms/step - loss: 6.4572e-04\n",
            "Episode 33/50: 100% 261/262 [00:11<00:00, 22.64it/s]\n",
            "\u001b[32m2021-12-01 23:17:03\u001b[0m \u001b[35m7185bf23d876\u001b[0m \u001b[34mroot[131990]\u001b[0m \u001b[1;30mINFO\u001b[0m Episode 33/50 - Train Position: +$19185.82095485523  Val Position: +$20.04428016906151  Train Loss: 0.0006457238923758268)\n",
            "9/9 [==============================] - 0s 9ms/step - loss: 7.2379e-04\n",
            "Episode 34/50: 100% 261/262 [00:11<00:00, 23.06it/s]\n",
            "\u001b[32m2021-12-01 23:17:27\u001b[0m \u001b[35m7185bf23d876\u001b[0m \u001b[34mroot[131990]\u001b[0m \u001b[1;30mINFO\u001b[0m Episode 34/50 - Train Position: +$18280.11764595296  Val Position: +$20.31278430642415  Train Loss: 0.000723792880307883)\n",
            "9/9 [==============================] - 0s 9ms/step - loss: 7.0007e-04\n",
            "Episode 35/50: 100% 261/262 [00:11<00:00, 23.11it/s]\n",
            "\u001b[32m2021-12-01 23:17:51\u001b[0m \u001b[35m7185bf23d876\u001b[0m \u001b[34mroot[131990]\u001b[0m \u001b[1;30mINFO\u001b[0m Episode 35/50 - Train Position: +$17439.3767970253  Val Position: +$20.28678159233386  Train Loss: 0.0007000728510320187)\n",
            "9/9 [==============================] - 0s 9ms/step - loss: 5.0083e-04\n",
            "Episode 36/50: 100% 261/262 [00:11<00:00, 23.43it/s]\n",
            "\u001b[32m2021-12-01 23:18:14\u001b[0m \u001b[35m7185bf23d876\u001b[0m \u001b[34mroot[131990]\u001b[0m \u001b[1;30mINFO\u001b[0m Episode 36/50 - Train Position: +$19403.455459526573  Val Position: +$20.37009089668203  Train Loss: 0.0005008314037695527)\n",
            "9/9 [==============================] - 0s 8ms/step - loss: 6.3827e-04\n",
            "Episode 37/50: 100% 261/262 [00:11<00:00, 22.27it/s]\n",
            "\u001b[32m2021-12-01 23:18:38\u001b[0m \u001b[35m7185bf23d876\u001b[0m \u001b[34mroot[131990]\u001b[0m \u001b[1;30mINFO\u001b[0m Episode 37/50 - Train Position: +$18817.440672125456  Val Position: +$20.20635874545313  Train Loss: 0.0006382689462043345)\n",
            "9/9 [==============================] - 0s 9ms/step - loss: 8.8585e-04\n",
            "Episode 38/50: 100% 261/262 [00:11<00:00, 22.59it/s]\n",
            "\u001b[32m2021-12-01 23:19:02\u001b[0m \u001b[35m7185bf23d876\u001b[0m \u001b[34mroot[131990]\u001b[0m \u001b[1;30mINFO\u001b[0m Episode 38/50 - Train Position: +$19405.65372610038  Val Position: +$19.991842096010224  Train Loss: 0.0008858453948050737)\n",
            "9/9 [==============================] - 0s 9ms/step - loss: 9.3767e-04\n",
            "Episode 39/50: 100% 261/262 [00:11<00:00, 22.86it/s]\n",
            "\u001b[32m2021-12-01 23:19:26\u001b[0m \u001b[35m7185bf23d876\u001b[0m \u001b[34mroot[131990]\u001b[0m \u001b[1;30mINFO\u001b[0m Episode 39/50 - Train Position: +$18333.66750582728  Val Position: +$20.20635874545313  Train Loss: 0.0009376693633385003)\n",
            "9/9 [==============================] - 0s 8ms/step - loss: 5.5142e-04\n",
            "Episode 40/50: 100% 261/262 [00:11<00:00, 23.19it/s]\n",
            "\u001b[32m2021-12-01 23:19:49\u001b[0m \u001b[35m7185bf23d876\u001b[0m \u001b[34mroot[131990]\u001b[0m \u001b[1;30mINFO\u001b[0m Episode 40/50 - Train Position: +$17554.042869637982  Val Position: +$20.26366533571101  Train Loss: 0.0005514233489520848)\n",
            "9/9 [==============================] - 0s 9ms/step - loss: 8.7738e-04\n",
            "Episode 41/50: 100% 261/262 [00:11<00:00, 22.71it/s]\n",
            "\u001b[32m2021-12-01 23:20:13\u001b[0m \u001b[35m7185bf23d876\u001b[0m \u001b[34mroot[131990]\u001b[0m \u001b[1;30mINFO\u001b[0m Episode 41/50 - Train Position: +$17985.677926686567  Val Position: +$20.20635874545313  Train Loss: 0.0008773765293881297)\n",
            "9/9 [==============================] - 0s 8ms/step - loss: 6.8212e-04\n",
            "Episode 42/50: 100% 261/262 [00:11<00:00, 22.80it/s]\n",
            "\u001b[32m2021-12-01 23:20:37\u001b[0m \u001b[35m7185bf23d876\u001b[0m \u001b[34mroot[131990]\u001b[0m \u001b[1;30mINFO\u001b[0m Episode 42/50 - Train Position: +$18186.35634149025  Val Position: +$20.37009089668203  Train Loss: 0.0006821182905696332)\n",
            "9/9 [==============================] - 0s 8ms/step - loss: 6.9430e-04\n",
            "Episode 43/50: 100% 261/262 [00:11<00:00, 23.29it/s]\n",
            "\u001b[32m2021-12-01 23:21:00\u001b[0m \u001b[35m7185bf23d876\u001b[0m \u001b[34mroot[131990]\u001b[0m \u001b[1;30mINFO\u001b[0m Episode 43/50 - Train Position: +$18736.383568957175  Val Position: +$20.37009089668203  Train Loss: 0.0006942983600310981)\n",
            "9/9 [==============================] - 0s 9ms/step - loss: 6.0068e-04\n",
            "Episode 44/50: 100% 261/262 [00:11<00:00, 22.73it/s]\n",
            "\u001b[32m2021-12-01 23:21:24\u001b[0m \u001b[35m7185bf23d876\u001b[0m \u001b[34mroot[131990]\u001b[0m \u001b[1;30mINFO\u001b[0m Episode 44/50 - Train Position: +$18560.508910220124  Val Position: +$19.97734352461881  Train Loss: 0.0006006784969940782)\n",
            "9/9 [==============================] - 0s 9ms/step - loss: 6.5899e-04\n",
            "Episode 45/50: 100% 261/262 [00:11<00:00, 22.59it/s]\n",
            "\u001b[32m2021-12-01 23:21:48\u001b[0m \u001b[35m7185bf23d876\u001b[0m \u001b[34mroot[131990]\u001b[0m \u001b[1;30mINFO\u001b[0m Episode 45/50 - Train Position: +$18364.143491020543  Val Position: +$20.37009089668203  Train Loss: 0.000658986798953265)\n",
            "9/9 [==============================] - 0s 8ms/step - loss: 6.2441e-04\n",
            "Episode 46/50: 100% 261/262 [00:11<00:00, 22.71it/s]\n",
            "\u001b[32m2021-12-01 23:22:12\u001b[0m \u001b[35m7185bf23d876\u001b[0m \u001b[34mroot[131990]\u001b[0m \u001b[1;30mINFO\u001b[0m Episode 46/50 - Train Position: +$18433.978561175576  Val Position: +$20.29144830621189  Train Loss: 0.0006244131946004927)\n",
            "9/9 [==============================] - 0s 9ms/step - loss: 6.0804e-04\n",
            "Episode 47/50: 100% 261/262 [00:11<00:00, 23.00it/s]\n",
            "\u001b[32m2021-12-01 23:22:36\u001b[0m \u001b[35m7185bf23d876\u001b[0m \u001b[34mroot[131990]\u001b[0m \u001b[1;30mINFO\u001b[0m Episode 47/50 - Train Position: +$19720.320902389427  Val Position: +$20.480817540280647  Train Loss: 0.0006080400198698044)\n",
            "9/9 [==============================] - 0s 9ms/step - loss: 6.9324e-04\n",
            "Episode 48/50: 100% 261/262 [00:11<00:00, 23.26it/s]\n",
            "\u001b[32m2021-12-01 23:22:59\u001b[0m \u001b[35m7185bf23d876\u001b[0m \u001b[34mroot[131990]\u001b[0m \u001b[1;30mINFO\u001b[0m Episode 48/50 - Train Position: +$20137.090242960778  Val Position: +$20.480817540280647  Train Loss: 0.0006932400283403695)\n",
            "9/9 [==============================] - 0s 8ms/step - loss: 7.7745e-04\n",
            "Episode 49/50: 100% 261/262 [00:11<00:00, 23.23it/s]\n",
            "\u001b[32m2021-12-01 23:23:23\u001b[0m \u001b[35m7185bf23d876\u001b[0m \u001b[34mroot[131990]\u001b[0m \u001b[1;30mINFO\u001b[0m Episode 49/50 - Train Position: +$18647.916251224153  Val Position: +$20.561032342756185  Train Loss: 0.0007774527184665203)\n",
            "9/9 [==============================] - 0s 11ms/step - loss: 6.9272e-04\n",
            "Episode 50/50: 100% 261/262 [00:11<00:00, 22.59it/s]\n",
            "\u001b[32m2021-12-01 23:23:47\u001b[0m \u001b[35m7185bf23d876\u001b[0m \u001b[34mroot[131990]\u001b[0m \u001b[1;30mINFO\u001b[0m Episode 50/50 - Train Position: +$18829.296928895077  Val Position: +$20.561032342756185  Train Loss: 0.0006927215144969523)\n"
          ]
        }
      ]
    },
    {
      "cell_type": "markdown",
      "metadata": {
        "id": "q57b85eZOleA"
      },
      "source": [
        "### Evaluate EUR currency (pg_1638400054_10)"
      ]
    },
    {
      "cell_type": "code",
      "metadata": {
        "colab": {
          "base_uri": "https://localhost:8080/"
        },
        "id": "Zj16bWn1ONI-",
        "outputId": "b0b404c9-4030-4d6d-d12d-a2e3c885a934"
      },
      "source": [
        "!python evaluate.py --eval data/EUR.csv --model-name EUR_11_09_21 --window-size 10 --verbose True"
      ],
      "execution_count": 13,
      "outputs": [
        {
          "output_type": "stream",
          "name": "stdout",
          "text": [
            "\u001b[32m2021-12-01 23:49:44\u001b[0m \u001b[35m7185bf23d876\u001b[0m \u001b[34mroot[266693]\u001b[0m \u001b[1;30mDEBUG\u001b[0m \u001b[32mSwitching --> TensorFlow for CPU\u001b[0m\n",
            "\u001b[32m2021-12-01 23:49:44\u001b[0m \u001b[35m7185bf23d876\u001b[0m \u001b[34mnumexpr.utils[266693]\u001b[0m \u001b[1;30mINFO\u001b[0m NumExpr defaulting to 2 threads.\n",
            "/usr/local/lib/python3.7/dist-packages/keras/optimizer_v2/adam.py:105: UserWarning:\n",
            "\n",
            "The `lr` argument is deprecated, use `learning_rate` instead.\n",
            "\n",
            "2021-12-01 23:49:44.818335: E tensorflow/stream_executor/cuda/cuda_driver.cc:271] failed call to cuInit: CUDA_ERROR_NO_DEVICE: no CUDA-capable device is detected\n",
            "Model: \"sequential\"\n",
            "_________________________________________________________________\n",
            " Layer (type)                Output Shape              Param #   \n",
            "=================================================================\n",
            " dense (Dense)               (None, 256)               7424      \n",
            "                                                                 \n",
            " dense_1 (Dense)             (None, 512)               131584    \n",
            "                                                                 \n",
            " dense_2 (Dense)             (None, 512)               262656    \n",
            "                                                                 \n",
            " dense_3 (Dense)             (None, 256)               131328    \n",
            "                                                                 \n",
            " dense_4 (Dense)             (None, 3)                 771       \n",
            "                                                                 \n",
            "=================================================================\n",
            "Total params: 533,763\n",
            "Trainable params: 533,763\n",
            "Non-trainable params: 0\n",
            "_________________________________________________________________\n",
            "\u001b[32m2021-12-01 23:49:56\u001b[0m \u001b[35m7185bf23d876\u001b[0m \u001b[34mroot[266693]\u001b[0m \u001b[1;30mINFO\u001b[0m +$2.223116392561108\n",
            "\n"
          ]
        }
      ]
    },
    {
      "cell_type": "markdown",
      "metadata": {
        "id": "xS3n3MMT0I7A"
      },
      "source": [
        "### Train INR currency (pg_1638403809_10)"
      ]
    },
    {
      "cell_type": "code",
      "metadata": {
        "colab": {
          "base_uri": "https://localhost:8080/"
        },
        "id": "vUiQNQno0jBL",
        "outputId": "c300c6fb-f55b-42bb-f1f2-e3879f662004"
      },
      "source": [
        "!python train.py --train data/INR_11_09_21.csv --valid data/INR_11_09_21.csv --model-type=pg --episode-count 50 --window-size 10"
      ],
      "execution_count": 16,
      "outputs": [
        {
          "output_type": "stream",
          "name": "stdout",
          "text": [
            "\u001b[32m2021-12-02 00:06:35\u001b[0m \u001b[35m7185bf23d876\u001b[0m \u001b[34mroot[268267]\u001b[0m \u001b[1;30mDEBUG\u001b[0m \u001b[32mSwitching --> TensorFlow for CPU\u001b[0m\n",
            "\u001b[32m2021-12-02 00:06:36\u001b[0m \u001b[35m7185bf23d876\u001b[0m \u001b[34mnumexpr.utils[268267]\u001b[0m \u001b[1;30mINFO\u001b[0m NumExpr defaulting to 2 threads.\n",
            "Using policy gradient model\n",
            "/usr/local/lib/python3.7/dist-packages/keras/optimizer_v2/adam.py:105: UserWarning:\n",
            "\n",
            "The `lr` argument is deprecated, use `learning_rate` instead.\n",
            "\n",
            "2021-12-02 00:06:36.522788: E tensorflow/stream_executor/cuda/cuda_driver.cc:271] failed call to cuInit: CUDA_ERROR_NO_DEVICE: no CUDA-capable device is detected\n",
            "Model: \"sequential\"\n",
            "_________________________________________________________________\n",
            " Layer (type)                Output Shape              Param #   \n",
            "=================================================================\n",
            " dense (Dense)               (None, 256)               7424      \n",
            "                                                                 \n",
            " dense_1 (Dense)             (None, 512)               131584    \n",
            "                                                                 \n",
            " dense_2 (Dense)             (None, 512)               262656    \n",
            "                                                                 \n",
            " dense_3 (Dense)             (None, 256)               131328    \n",
            "                                                                 \n",
            " dense_4 (Dense)             (None, 3)                 771       \n",
            "                                                                 \n",
            "=================================================================\n",
            "Total params: 533,763\n",
            "Trainable params: 533,763\n",
            "Non-trainable params: 0\n",
            "_________________________________________________________________\n",
            "9/9 [==============================] - 1s 8ms/step - loss: 0.0010\n",
            "Episode 1/50: 100% 261/262 [00:11<00:00, 21.98it/s]\n",
            "\u001b[32m2021-12-02 00:07:00\u001b[0m \u001b[35m7185bf23d876\u001b[0m \u001b[34mroot[268267]\u001b[0m \u001b[1;30mINFO\u001b[0m Episode 1/50 - Train Position: -$1473.2044194101845  Val Position: -$0.4167293161474428  Train Loss: 0.0010327635100111365)\n",
            "Episode 2/50:  30% 78/262 [00:03<00:07, 23.94it/s]2021-12-02 00:07:04.025819: W tensorflow/core/data/root_dataset.cc:163] Optimization loop failed: CANCELLED: Operation was cancelled\n",
            "9/9 [==============================] - 0s 8ms/step - loss: 8.2873e-04\n",
            "Episode 2/50: 100% 261/262 [00:11<00:00, 23.17it/s]\n",
            "\u001b[32m2021-12-02 00:07:24\u001b[0m \u001b[35m7185bf23d876\u001b[0m \u001b[34mroot[268267]\u001b[0m \u001b[1;30mINFO\u001b[0m Episode 2/50 - Train Position: +$2610.382948230734  Val Position: +$17.450148618877446  Train Loss: 0.0008287254604510963)\n",
            "9/9 [==============================] - 0s 8ms/step - loss: 9.0409e-04\n",
            "Episode 3/50: 100% 261/262 [00:11<00:00, 22.56it/s]\n",
            "\u001b[32m2021-12-02 00:07:47\u001b[0m \u001b[35m7185bf23d876\u001b[0m \u001b[34mroot[268267]\u001b[0m \u001b[1;30mINFO\u001b[0m Episode 3/50 - Train Position: +$3865.3302200736593  Val Position: +$17.99205112990622  Train Loss: 0.0009040884906426072)\n",
            "9/9 [==============================] - 0s 9ms/step - loss: 0.0010\n",
            "Episode 4/50: 100% 261/262 [00:11<00:00, 23.01it/s]\n",
            "\u001b[32m2021-12-02 00:08:11\u001b[0m \u001b[35m7185bf23d876\u001b[0m \u001b[34mroot[268267]\u001b[0m \u001b[1;30mINFO\u001b[0m Episode 4/50 - Train Position: +$4238.87374442616  Val Position: +$17.8311939384137  Train Loss: 0.0010293100494891405)\n",
            "9/9 [==============================] - 0s 8ms/step - loss: 0.0010\n",
            "Episode 5/50: 100% 261/262 [00:10<00:00, 23.74it/s]\n",
            "\u001b[32m2021-12-02 00:08:34\u001b[0m \u001b[35m7185bf23d876\u001b[0m \u001b[34mroot[268267]\u001b[0m \u001b[1;30mINFO\u001b[0m Episode 5/50 - Train Position: +$8672.506139934943  Val Position: +$17.75697702685652  Train Loss: 0.0010054130107164383)\n",
            "9/9 [==============================] - 0s 7ms/step - loss: 9.7432e-04\n",
            "Episode 6/50: 100% 261/262 [00:11<00:00, 23.46it/s]\n",
            "\u001b[32m2021-12-02 00:08:57\u001b[0m \u001b[35m7185bf23d876\u001b[0m \u001b[34mroot[268267]\u001b[0m \u001b[1;30mINFO\u001b[0m Episode 6/50 - Train Position: +$9269.359077200452  Val Position: +$18.108747187585234  Train Loss: 0.0009743237751536071)\n",
            "9/9 [==============================] - 0s 8ms/step - loss: 8.7428e-04\n",
            "Episode 7/50: 100% 261/262 [00:11<00:00, 22.84it/s]\n",
            "\u001b[32m2021-12-02 00:09:21\u001b[0m \u001b[35m7185bf23d876\u001b[0m \u001b[34mroot[268267]\u001b[0m \u001b[1;30mINFO\u001b[0m Episode 7/50 - Train Position: +$10494.534787901011  Val Position: +$18.184978589295564  Train Loss: 0.0008742754580453038)\n",
            "9/9 [==============================] - 0s 9ms/step - loss: 0.0011\n",
            "Episode 8/50: 100% 261/262 [00:11<00:00, 22.56it/s]\n",
            "\u001b[32m2021-12-02 00:09:45\u001b[0m \u001b[35m7185bf23d876\u001b[0m \u001b[34mroot[268267]\u001b[0m \u001b[1;30mINFO\u001b[0m Episode 8/50 - Train Position: +$13130.115514817671  Val Position: +$17.877175573544367  Train Loss: 0.001100961584597826)\n",
            "9/9 [==============================] - 0s 8ms/step - loss: 9.0072e-04\n",
            "Episode 9/50: 100% 261/262 [00:11<00:00, 23.35it/s]\n",
            "\u001b[32m2021-12-02 00:10:09\u001b[0m \u001b[35m7185bf23d876\u001b[0m \u001b[34mroot[268267]\u001b[0m \u001b[1;30mINFO\u001b[0m Episode 9/50 - Train Position: +$11190.232023098464  Val Position: +$17.921164749931524  Train Loss: 0.0009007247863337398)\n",
            "Episode 10/50:   0% 0/262 [00:00<?, ?it/s]2021-12-02 00:10:09.566579: W tensorflow/python/util/util.cc:368] Sets are not currently considered sequences, but this may change in the future, so consider avoiding using them.\n",
            "INFO:tensorflow:Assets written to: models/pg_1638403809_10/assets\n",
            "\u001b[32m2021-12-02 00:10:10\u001b[0m \u001b[35m7185bf23d876\u001b[0m \u001b[34mtensorflow[268267]\u001b[0m \u001b[1;30mINFO\u001b[0m Assets written to: models/pg_1638403809_10/assets\n",
            "9/9 [==============================] - 0s 9ms/step - loss: 9.5797e-04\n",
            "Episode 10/50: 100% 261/262 [00:12<00:00, 21.31it/s]\n",
            "\u001b[32m2021-12-02 00:10:33\u001b[0m \u001b[35m7185bf23d876\u001b[0m \u001b[34mroot[268267]\u001b[0m \u001b[1;30mINFO\u001b[0m Episode 10/50 - Train Position: +$8501.437064976195  Val Position: +$17.526170577477433  Train Loss: 0.0009579677716828883)\n",
            "9/9 [==============================] - 0s 8ms/step - loss: 9.2210e-04\n",
            "Episode 11/50: 100% 261/262 [00:11<00:00, 23.17it/s]\n",
            "\u001b[32m2021-12-02 00:10:57\u001b[0m \u001b[35m7185bf23d876\u001b[0m \u001b[34mroot[268267]\u001b[0m \u001b[1;30mINFO\u001b[0m Episode 11/50 - Train Position: +$12989.995651754185  Val Position: +$17.1019799432931  Train Loss: 0.0009220955544151366)\n",
            "9/9 [==============================] - 0s 9ms/step - loss: 8.2005e-04\n",
            "Episode 12/50: 100% 261/262 [00:11<00:00, 23.20it/s]\n",
            "\u001b[32m2021-12-02 00:11:20\u001b[0m \u001b[35m7185bf23d876\u001b[0m \u001b[34mroot[268267]\u001b[0m \u001b[1;30mINFO\u001b[0m Episode 12/50 - Train Position: +$12942.605313695607  Val Position: +$17.062514355985737  Train Loss: 0.0008200545562431216)\n",
            "9/9 [==============================] - 0s 8ms/step - loss: 8.8314e-04\n",
            "Episode 13/50: 100% 261/262 [00:11<00:00, 22.59it/s]\n",
            "\u001b[32m2021-12-02 00:11:44\u001b[0m \u001b[35m7185bf23d876\u001b[0m \u001b[34mroot[268267]\u001b[0m \u001b[1;30mINFO\u001b[0m Episode 13/50 - Train Position: +$14661.153336310967  Val Position: +$11.912243352870462  Train Loss: 0.0008831374580040574)\n",
            "9/9 [==============================] - 0s 8ms/step - loss: 0.0011\n",
            "Episode 14/50: 100% 261/262 [00:11<00:00, 23.64it/s]\n",
            "\u001b[32m2021-12-02 00:12:08\u001b[0m \u001b[35m7185bf23d876\u001b[0m \u001b[34mroot[268267]\u001b[0m \u001b[1;30mINFO\u001b[0m Episode 14/50 - Train Position: +$13720.9592645852  Val Position: +$16.04874326795331  Train Loss: 0.0010884285438805819)\n",
            "9/9 [==============================] - 0s 10ms/step - loss: 9.4881e-04\n",
            "Episode 15/50: 100% 261/262 [00:11<00:00, 23.33it/s]\n",
            "\u001b[32m2021-12-02 00:12:31\u001b[0m \u001b[35m7185bf23d876\u001b[0m \u001b[34mroot[268267]\u001b[0m \u001b[1;30mINFO\u001b[0m Episode 15/50 - Train Position: +$14524.411661076609  Val Position: +$17.548127629031587  Train Loss: 0.0009488122304901481)\n",
            "9/9 [==============================] - 0s 8ms/step - loss: 8.4330e-04\n",
            "Episode 16/50: 100% 261/262 [00:11<00:00, 23.12it/s]\n",
            "\u001b[32m2021-12-02 00:12:55\u001b[0m \u001b[35m7185bf23d876\u001b[0m \u001b[34mroot[268267]\u001b[0m \u001b[1;30mINFO\u001b[0m Episode 16/50 - Train Position: +$14451.785821371117  Val Position: +$18.01476189752621  Train Loss: 0.0008433013572357595)\n",
            "9/9 [==============================] - 0s 10ms/step - loss: 7.0890e-04\n",
            "Episode 17/50: 100% 261/262 [00:11<00:00, 22.76it/s]\n",
            "\u001b[32m2021-12-02 00:13:18\u001b[0m \u001b[35m7185bf23d876\u001b[0m \u001b[34mroot[268267]\u001b[0m \u001b[1;30mINFO\u001b[0m Episode 17/50 - Train Position: +$13261.753273613318  Val Position: +$18.057535229967836  Train Loss: 0.0007089022547006607)\n",
            "9/9 [==============================] - 0s 9ms/step - loss: 8.3508e-04\n",
            "Episode 18/50: 100% 261/262 [00:11<00:00, 23.26it/s]\n",
            "\u001b[32m2021-12-02 00:13:42\u001b[0m \u001b[35m7185bf23d876\u001b[0m \u001b[34mroot[268267]\u001b[0m \u001b[1;30mINFO\u001b[0m Episode 18/50 - Train Position: +$14136.948504929556  Val Position: +$17.944699687588137  Train Loss: 0.0008350752177648246)\n",
            "9/9 [==============================] - 0s 8ms/step - loss: 7.9508e-04\n",
            "Episode 19/50: 100% 261/262 [00:11<00:00, 23.35it/s]\n",
            "\u001b[32m2021-12-02 00:14:06\u001b[0m \u001b[35m7185bf23d876\u001b[0m \u001b[34mroot[268267]\u001b[0m \u001b[1;30mINFO\u001b[0m Episode 19/50 - Train Position: +$14456.260890323761  Val Position: +$18.068192292255734  Train Loss: 0.0007950774161145091)\n",
            "9/9 [==============================] - 0s 8ms/step - loss: 7.2703e-04\n",
            "Episode 20/50: 100% 261/262 [00:11<00:00, 23.42it/s]\n",
            "\u001b[32m2021-12-02 00:14:29\u001b[0m \u001b[35m7185bf23d876\u001b[0m \u001b[34mroot[268267]\u001b[0m \u001b[1;30mINFO\u001b[0m Episode 20/50 - Train Position: +$16147.47868533723  Val Position: +$17.80613170297988  Train Loss: 0.0007270294590853155)\n",
            "9/9 [==============================] - 0s 8ms/step - loss: 7.3563e-04\n",
            "Episode 21/50: 100% 261/262 [00:11<00:00, 22.98it/s]\n",
            "\u001b[32m2021-12-02 00:14:52\u001b[0m \u001b[35m7185bf23d876\u001b[0m \u001b[34mroot[268267]\u001b[0m \u001b[1;30mINFO\u001b[0m Episode 21/50 - Train Position: +$15966.302424104213  Val Position: +$17.990889571134243  Train Loss: 0.0007356308633461595)\n",
            "9/9 [==============================] - 0s 8ms/step - loss: 7.2587e-04\n",
            "Episode 22/50: 100% 261/262 [00:11<00:00, 23.27it/s]\n",
            "\u001b[32m2021-12-02 00:15:16\u001b[0m \u001b[35m7185bf23d876\u001b[0m \u001b[34mroot[268267]\u001b[0m \u001b[1;30mINFO\u001b[0m Episode 22/50 - Train Position: +$14643.314778655993  Val Position: +$18.08452603832404  Train Loss: 0.0007258659461513162)\n",
            "9/9 [==============================] - 0s 8ms/step - loss: 7.8000e-04\n",
            "Episode 23/50: 100% 261/262 [00:11<00:00, 22.62it/s]\n",
            "\u001b[32m2021-12-02 00:15:40\u001b[0m \u001b[35m7185bf23d876\u001b[0m \u001b[34mroot[268267]\u001b[0m \u001b[1;30mINFO\u001b[0m Episode 23/50 - Train Position: +$16231.298226756893  Val Position: +$18.08452603832404  Train Loss: 0.0007799988961778581)\n",
            "9/9 [==============================] - 0s 9ms/step - loss: 6.1979e-04\n",
            "Episode 24/50: 100% 261/262 [00:11<00:00, 23.26it/s]\n",
            "\u001b[32m2021-12-02 00:16:04\u001b[0m \u001b[35m7185bf23d876\u001b[0m \u001b[34mroot[268267]\u001b[0m \u001b[1;30mINFO\u001b[0m Episode 24/50 - Train Position: +$17055.772455856477  Val Position: +$17.986720368297544  Train Loss: 0.0006197913317009807)\n",
            "9/9 [==============================] - 0s 8ms/step - loss: 9.2186e-04\n",
            "Episode 25/50: 100% 261/262 [00:11<00:00, 22.76it/s]\n",
            "\u001b[32m2021-12-02 00:16:27\u001b[0m \u001b[35m7185bf23d876\u001b[0m \u001b[34mroot[268267]\u001b[0m \u001b[1;30mINFO\u001b[0m Episode 25/50 - Train Position: +$15080.723582130084  Val Position: +$17.892981908670127  Train Loss: 0.0009218588820658624)\n",
            "9/9 [==============================] - 0s 8ms/step - loss: 8.3985e-04\n",
            "Episode 26/50: 100% 261/262 [00:11<00:00, 23.14it/s]\n",
            "\u001b[32m2021-12-02 00:16:51\u001b[0m \u001b[35m7185bf23d876\u001b[0m \u001b[34mroot[268267]\u001b[0m \u001b[1;30mINFO\u001b[0m Episode 26/50 - Train Position: +$14453.73867045173  Val Position: +$16.700562750783543  Train Loss: 0.0008398486534133554)\n",
            "9/9 [==============================] - 0s 8ms/step - loss: 9.5185e-04\n",
            "Episode 27/50: 100% 261/262 [00:11<00:00, 23.15it/s]\n",
            "\u001b[32m2021-12-02 00:17:15\u001b[0m \u001b[35m7185bf23d876\u001b[0m \u001b[34mroot[268267]\u001b[0m \u001b[1;30mINFO\u001b[0m Episode 27/50 - Train Position: +$15877.705123329864  Val Position: +$17.71090588221303  Train Loss: 0.0009518529404886067)\n",
            "9/9 [==============================] - 0s 8ms/step - loss: 0.0012\n",
            "Episode 28/50: 100% 261/262 [00:11<00:00, 23.21it/s]\n",
            "\u001b[32m2021-12-02 00:17:38\u001b[0m \u001b[35m7185bf23d876\u001b[0m \u001b[34mroot[268267]\u001b[0m \u001b[1;30mINFO\u001b[0m Episode 28/50 - Train Position: +$15449.464086122518  Val Position: +$17.035802024785735  Train Loss: 0.001175911515019834)\n",
            "9/9 [==============================] - 0s 8ms/step - loss: 8.2768e-04\n",
            "Episode 29/50: 100% 261/262 [00:11<00:00, 22.59it/s]\n",
            "\u001b[32m2021-12-02 00:18:02\u001b[0m \u001b[35m7185bf23d876\u001b[0m \u001b[34mroot[268267]\u001b[0m \u001b[1;30mINFO\u001b[0m Episode 29/50 - Train Position: +$15799.460501109917  Val Position: +$17.035802024785735  Train Loss: 0.0008276798180304468)\n",
            "9/9 [==============================] - 0s 8ms/step - loss: 7.8728e-04\n",
            "Episode 30/50: 100% 261/262 [00:11<00:00, 23.17it/s]\n",
            "\u001b[32m2021-12-02 00:18:26\u001b[0m \u001b[35m7185bf23d876\u001b[0m \u001b[34mroot[268267]\u001b[0m \u001b[1;30mINFO\u001b[0m Episode 30/50 - Train Position: +$13135.972993282654  Val Position: +$17.589120692866185  Train Loss: 0.0007872798014432192)\n",
            "9/9 [==============================] - 0s 7ms/step - loss: 7.5654e-04\n",
            "Episode 31/50: 100% 261/262 [00:11<00:00, 23.39it/s]\n",
            "\u001b[32m2021-12-02 00:18:50\u001b[0m \u001b[35m7185bf23d876\u001b[0m \u001b[34mroot[268267]\u001b[0m \u001b[1;30mINFO\u001b[0m Episode 31/50 - Train Position: +$14770.068941300691  Val Position: +$17.525166098906613  Train Loss: 0.0007565357373096049)\n",
            "9/9 [==============================] - 0s 9ms/step - loss: 8.6762e-04\n",
            "Episode 32/50: 100% 261/262 [00:11<00:00, 22.79it/s]\n",
            "\u001b[32m2021-12-02 00:19:14\u001b[0m \u001b[35m7185bf23d876\u001b[0m \u001b[34mroot[268267]\u001b[0m \u001b[1;30mINFO\u001b[0m Episode 32/50 - Train Position: +$16015.089408073758  Val Position: +$17.782267249716046  Train Loss: 0.0008676158031448722)\n",
            "9/9 [==============================] - 0s 9ms/step - loss: 0.0011\n",
            "Episode 33/50: 100% 261/262 [00:11<00:00, 22.08it/s]\n",
            "\u001b[32m2021-12-02 00:19:38\u001b[0m \u001b[35m7185bf23d876\u001b[0m \u001b[34mroot[268267]\u001b[0m \u001b[1;30mINFO\u001b[0m Episode 33/50 - Train Position: +$16655.897771301195  Val Position: +$18.05275877348068  Train Loss: 0.0010989613365381956)\n",
            "9/9 [==============================] - 0s 9ms/step - loss: 9.7257e-04\n",
            "Episode 34/50: 100% 261/262 [00:11<00:00, 22.27it/s]\n",
            "\u001b[32m2021-12-02 00:20:03\u001b[0m \u001b[35m7185bf23d876\u001b[0m \u001b[34mroot[268267]\u001b[0m \u001b[1;30mINFO\u001b[0m Episode 34/50 - Train Position: +$15577.583458237043  Val Position: +$18.156996617542394  Train Loss: 0.0009725731797516346)\n",
            "9/9 [==============================] - 0s 9ms/step - loss: 8.3479e-04\n",
            "Episode 35/50: 100% 261/262 [00:11<00:00, 22.51it/s]\n",
            "\u001b[32m2021-12-02 00:20:27\u001b[0m \u001b[35m7185bf23d876\u001b[0m \u001b[34mroot[268267]\u001b[0m \u001b[1;30mINFO\u001b[0m Episode 35/50 - Train Position: +$15938.572171879941  Val Position: +$17.892894813602677  Train Loss: 0.0008347887196578085)\n",
            "9/9 [==============================] - 0s 9ms/step - loss: 7.8963e-04\n",
            "Episode 36/50: 100% 261/262 [00:12<00:00, 21.59it/s]\n",
            "\u001b[32m2021-12-02 00:20:52\u001b[0m \u001b[35m7185bf23d876\u001b[0m \u001b[34mroot[268267]\u001b[0m \u001b[1;30mINFO\u001b[0m Episode 36/50 - Train Position: +$16794.429014307327  Val Position: +$17.892894813602677  Train Loss: 0.0007896254537627101)\n",
            "9/9 [==============================] - 0s 9ms/step - loss: 8.0128e-04\n",
            "Episode 37/50: 100% 261/262 [00:12<00:00, 21.74it/s]\n",
            "\u001b[32m2021-12-02 00:21:17\u001b[0m \u001b[35m7185bf23d876\u001b[0m \u001b[34mroot[268267]\u001b[0m \u001b[1;30mINFO\u001b[0m Episode 37/50 - Train Position: +$15927.699062429367  Val Position: +$18.307287094707707  Train Loss: 0.0008012751932255924)\n",
            "9/9 [==============================] - 0s 9ms/step - loss: 6.7082e-04\n",
            "Episode 38/50: 100% 261/262 [00:12<00:00, 21.63it/s]\n",
            "\u001b[32m2021-12-02 00:21:42\u001b[0m \u001b[35m7185bf23d876\u001b[0m \u001b[34mroot[268267]\u001b[0m \u001b[1;30mINFO\u001b[0m Episode 38/50 - Train Position: +$16577.328672281194  Val Position: +$18.180202132808407  Train Loss: 0.0006708183791488409)\n",
            "9/9 [==============================] - 0s 8ms/step - loss: 8.0550e-04\n",
            "Episode 39/50: 100% 261/262 [00:11<00:00, 23.14it/s]\n",
            "\u001b[32m2021-12-02 00:22:06\u001b[0m \u001b[35m7185bf23d876\u001b[0m \u001b[34mroot[268267]\u001b[0m \u001b[1;30mINFO\u001b[0m Episode 39/50 - Train Position: +$17095.67377003029  Val Position: +$18.172733634930534  Train Loss: 0.0008055037469603121)\n",
            "9/9 [==============================] - 0s 10ms/step - loss: 7.3466e-04\n",
            "Episode 40/50: 100% 261/262 [00:11<00:00, 23.11it/s]\n",
            "\u001b[32m2021-12-02 00:22:29\u001b[0m \u001b[35m7185bf23d876\u001b[0m \u001b[34mroot[268267]\u001b[0m \u001b[1;30mINFO\u001b[0m Episode 40/50 - Train Position: +$17178.105865002373  Val Position: +$18.264732240970563  Train Loss: 0.0007346607744693756)\n",
            "9/9 [==============================] - 0s 8ms/step - loss: 6.8633e-04\n",
            "Episode 41/50: 100% 261/262 [00:11<00:00, 22.23it/s]\n",
            "\u001b[32m2021-12-02 00:22:53\u001b[0m \u001b[35m7185bf23d876\u001b[0m \u001b[34mroot[268267]\u001b[0m \u001b[1;30mINFO\u001b[0m Episode 41/50 - Train Position: +$16276.360409569146  Val Position: +$18.37604999854017  Train Loss: 0.000686332699842751)\n",
            "9/9 [==============================] - 0s 9ms/step - loss: 6.7038e-04\n",
            "Episode 42/50: 100% 261/262 [00:11<00:00, 22.42it/s]\n",
            "\u001b[32m2021-12-02 00:23:17\u001b[0m \u001b[35m7185bf23d876\u001b[0m \u001b[34mroot[268267]\u001b[0m \u001b[1;30mINFO\u001b[0m Episode 42/50 - Train Position: +$15956.966273356016  Val Position: +$18.383518496418045  Train Loss: 0.000670379085931927)\n",
            "9/9 [==============================] - 0s 8ms/step - loss: 6.2096e-04\n",
            "Episode 43/50: 100% 261/262 [00:11<00:00, 23.20it/s]\n",
            "\u001b[32m2021-12-02 00:23:41\u001b[0m \u001b[35m7185bf23d876\u001b[0m \u001b[34mroot[268267]\u001b[0m \u001b[1;30mINFO\u001b[0m Episode 43/50 - Train Position: +$17130.825473847864  Val Position: +$18.382130598323865  Train Loss: 0.0006209621205925941)\n",
            "9/9 [==============================] - 0s 8ms/step - loss: 6.4511e-04\n",
            "Episode 44/50: 100% 261/262 [00:11<00:00, 23.06it/s]\n",
            "\u001b[32m2021-12-02 00:24:04\u001b[0m \u001b[35m7185bf23d876\u001b[0m \u001b[34mroot[268267]\u001b[0m \u001b[1;30mINFO\u001b[0m Episode 44/50 - Train Position: +$17268.19486049016  Val Position: +$18.370357983126457  Train Loss: 0.0006451088702306151)\n",
            "9/9 [==============================] - 0s 8ms/step - loss: 0.0010\n",
            "Episode 45/50: 100% 261/262 [00:11<00:00, 22.27it/s]\n",
            "\u001b[32m2021-12-02 00:24:28\u001b[0m \u001b[35m7185bf23d876\u001b[0m \u001b[34mroot[268267]\u001b[0m \u001b[1;30mINFO\u001b[0m Episode 45/50 - Train Position: +$16279.667318301426  Val Position: +$18.362889485248584  Train Loss: 0.0010357871651649475)\n",
            "9/9 [==============================] - 0s 9ms/step - loss: 8.0622e-04\n",
            "Episode 46/50: 100% 261/262 [00:11<00:00, 22.78it/s]\n",
            "\u001b[32m2021-12-02 00:24:52\u001b[0m \u001b[35m7185bf23d876\u001b[0m \u001b[34mroot[268267]\u001b[0m \u001b[1;30mINFO\u001b[0m Episode 46/50 - Train Position: +$17293.598242799202  Val Position: +$18.368970085032277  Train Loss: 0.0008062225533649325)\n",
            "9/9 [==============================] - 0s 8ms/step - loss: 7.4219e-04\n",
            "Episode 47/50: 100% 261/262 [00:11<00:00, 22.89it/s]\n",
            "\u001b[32m2021-12-02 00:25:16\u001b[0m \u001b[35m7185bf23d876\u001b[0m \u001b[34mroot[268267]\u001b[0m \u001b[1;30mINFO\u001b[0m Episode 47/50 - Train Position: +$16588.09046301606  Val Position: +$18.397686797805424  Train Loss: 0.0007421866757795215)\n",
            "9/9 [==============================] - 0s 8ms/step - loss: 8.1548e-04\n",
            "Episode 48/50: 100% 261/262 [00:11<00:00, 22.78it/s]\n",
            "\u001b[32m2021-12-02 00:25:40\u001b[0m \u001b[35m7185bf23d876\u001b[0m \u001b[34mroot[268267]\u001b[0m \u001b[1;30mINFO\u001b[0m Episode 48/50 - Train Position: +$16033.367645249658  Val Position: +$18.415934122595342  Train Loss: 0.0008154847892001271)\n",
            "9/9 [==============================] - 0s 9ms/step - loss: 7.0679e-04\n",
            "Episode 49/50: 100% 261/262 [00:11<00:00, 21.92it/s]\n",
            "\u001b[32m2021-12-02 00:26:05\u001b[0m \u001b[35m7185bf23d876\u001b[0m \u001b[34mroot[268267]\u001b[0m \u001b[1;30mINFO\u001b[0m Episode 49/50 - Train Position: +$17182.692040641647  Val Position: +$18.368970085032277  Train Loss: 0.0007067888509482145)\n",
            "9/9 [==============================] - 0s 9ms/step - loss: 5.4350e-04\n",
            "Episode 50/50: 100% 261/262 [00:11<00:00, 22.26it/s]\n",
            "\u001b[32m2021-12-02 00:26:29\u001b[0m \u001b[35m7185bf23d876\u001b[0m \u001b[34mroot[268267]\u001b[0m \u001b[1;30mINFO\u001b[0m Episode 50/50 - Train Position: +$15366.796974850022  Val Position: +$18.382130598323865  Train Loss: 0.0005435047205537558)\n"
          ]
        }
      ]
    },
    {
      "cell_type": "markdown",
      "metadata": {
        "id": "_A4QOQQlg-3O"
      },
      "source": [
        "### Evaluate INR currency (pg_1638403809_10)"
      ]
    },
    {
      "cell_type": "code",
      "metadata": {
        "colab": {
          "base_uri": "https://localhost:8080/"
        },
        "id": "SyYv6ocHhYfw",
        "outputId": "1312b199-4292-42ce-abae-d8fe2a8b17e1"
      },
      "source": [
        "!python evaluate.py --eval data/INR.csv --model-name INR_11_09_21 --window-size 10 --verbose True"
      ],
      "execution_count": 17,
      "outputs": [
        {
          "output_type": "stream",
          "name": "stdout",
          "text": [
            "\u001b[32m2021-12-02 00:29:46\u001b[0m \u001b[35m7185bf23d876\u001b[0m \u001b[34mroot[399688]\u001b[0m \u001b[1;30mDEBUG\u001b[0m \u001b[32mSwitching --> TensorFlow for CPU\u001b[0m\n",
            "\u001b[32m2021-12-02 00:29:46\u001b[0m \u001b[35m7185bf23d876\u001b[0m \u001b[34mnumexpr.utils[399688]\u001b[0m \u001b[1;30mINFO\u001b[0m NumExpr defaulting to 2 threads.\n",
            "/usr/local/lib/python3.7/dist-packages/keras/optimizer_v2/adam.py:105: UserWarning:\n",
            "\n",
            "The `lr` argument is deprecated, use `learning_rate` instead.\n",
            "\n",
            "2021-12-02 00:29:47.056392: E tensorflow/stream_executor/cuda/cuda_driver.cc:271] failed call to cuInit: CUDA_ERROR_NO_DEVICE: no CUDA-capable device is detected\n",
            "Model: \"sequential\"\n",
            "_________________________________________________________________\n",
            " Layer (type)                Output Shape              Param #   \n",
            "=================================================================\n",
            " dense (Dense)               (None, 256)               7424      \n",
            "                                                                 \n",
            " dense_1 (Dense)             (None, 512)               131584    \n",
            "                                                                 \n",
            " dense_2 (Dense)             (None, 512)               262656    \n",
            "                                                                 \n",
            " dense_3 (Dense)             (None, 256)               131328    \n",
            "                                                                 \n",
            " dense_4 (Dense)             (None, 3)                 771       \n",
            "                                                                 \n",
            "=================================================================\n",
            "Total params: 533,763\n",
            "Trainable params: 533,763\n",
            "Non-trainable params: 0\n",
            "_________________________________________________________________\n",
            "\u001b[32m2021-12-02 00:29:59\u001b[0m \u001b[35m7185bf23d876\u001b[0m \u001b[34mroot[399688]\u001b[0m \u001b[1;30mINFO\u001b[0m +$1.1234006520182716\n",
            "\n"
          ]
        }
      ]
    },
    {
      "cell_type": "markdown",
      "metadata": {
        "id": "GKwtSUQR8z92"
      },
      "source": [
        "### Train PHP currency (pg_1638405405_10)"
      ]
    },
    {
      "cell_type": "code",
      "metadata": {
        "colab": {
          "base_uri": "https://localhost:8080/"
        },
        "id": "sDvhK46d88dX",
        "outputId": "c7090752-e237-4d08-c52b-563b6bf8260f"
      },
      "source": [
        "!python train.py --train data/PHP_11_09_21.csv --valid data/PHP_11_09.csv --model-type=pg --episode-count 50 --window-size 10"
      ],
      "execution_count": 20,
      "outputs": [
        {
          "output_type": "stream",
          "name": "stdout",
          "text": [
            "\u001b[32m2021-12-02 00:33:09\u001b[0m \u001b[35m7185bf23d876\u001b[0m \u001b[34mroot[401078]\u001b[0m \u001b[1;30mDEBUG\u001b[0m \u001b[32mSwitching --> TensorFlow for CPU\u001b[0m\n",
            "\u001b[32m2021-12-02 00:33:09\u001b[0m \u001b[35m7185bf23d876\u001b[0m \u001b[34mnumexpr.utils[401078]\u001b[0m \u001b[1;30mINFO\u001b[0m NumExpr defaulting to 2 threads.\n",
            "Using policy gradient model\n",
            "/usr/local/lib/python3.7/dist-packages/keras/optimizer_v2/adam.py:105: UserWarning:\n",
            "\n",
            "The `lr` argument is deprecated, use `learning_rate` instead.\n",
            "\n",
            "2021-12-02 00:33:09.785228: E tensorflow/stream_executor/cuda/cuda_driver.cc:271] failed call to cuInit: CUDA_ERROR_NO_DEVICE: no CUDA-capable device is detected\n",
            "Model: \"sequential\"\n",
            "_________________________________________________________________\n",
            " Layer (type)                Output Shape              Param #   \n",
            "=================================================================\n",
            " dense (Dense)               (None, 256)               7424      \n",
            "                                                                 \n",
            " dense_1 (Dense)             (None, 512)               131584    \n",
            "                                                                 \n",
            " dense_2 (Dense)             (None, 512)               262656    \n",
            "                                                                 \n",
            " dense_3 (Dense)             (None, 256)               131328    \n",
            "                                                                 \n",
            " dense_4 (Dense)             (None, 3)                 771       \n",
            "                                                                 \n",
            "=================================================================\n",
            "Total params: 533,763\n",
            "Trainable params: 533,763\n",
            "Non-trainable params: 0\n",
            "_________________________________________________________________\n",
            "9/9 [==============================] - 1s 10ms/step - loss: 0.0013\n",
            "Episode 1/50: 100% 261/262 [00:11<00:00, 21.79it/s]\n",
            "\u001b[32m2021-12-02 00:33:34\u001b[0m \u001b[35m7185bf23d876\u001b[0m \u001b[34mroot[401078]\u001b[0m \u001b[1;30mINFO\u001b[0m Episode 1/50 - Train Position: +$2235.9830066417444  Val Position: +$14.659012276137183  Train Loss: 0.001345782889984548)\n",
            "9/9 [==============================] - 0s 8ms/step - loss: 9.9721e-04\n",
            "Episode 2/50: 100% 261/262 [00:11<00:00, 22.48it/s]\n",
            "\u001b[32m2021-12-02 00:33:58\u001b[0m \u001b[35m7185bf23d876\u001b[0m \u001b[34mroot[401078]\u001b[0m \u001b[1;30mINFO\u001b[0m Episode 2/50 - Train Position: +$3033.5310488149034  Val Position: +$10.061499913885282  Train Loss: 0.0009972108528017998)\n",
            "9/9 [==============================] - 0s 8ms/step - loss: 0.0010\n",
            "Episode 3/50: 100% 261/262 [00:11<00:00, 22.74it/s]\n",
            "\u001b[32m2021-12-02 00:34:22\u001b[0m \u001b[35m7185bf23d876\u001b[0m \u001b[34mroot[401078]\u001b[0m \u001b[1;30mINFO\u001b[0m Episode 3/50 - Train Position: +$6061.56467353303  Val Position: +$16.642660739658144  Train Loss: 0.001030156621709466)\n",
            "9/9 [==============================] - 0s 8ms/step - loss: 9.5028e-04\n",
            "Episode 4/50: 100% 261/262 [00:11<00:00, 22.86it/s]\n",
            "\u001b[32m2021-12-02 00:34:45\u001b[0m \u001b[35m7185bf23d876\u001b[0m \u001b[34mroot[401078]\u001b[0m \u001b[1;30mINFO\u001b[0m Episode 4/50 - Train Position: +$3117.989123515161  Val Position: +$16.307993598625135  Train Loss: 0.0009502774337306619)\n",
            "9/9 [==============================] - 0s 9ms/step - loss: 8.4664e-04\n",
            "Episode 5/50: 100% 261/262 [00:11<00:00, 23.19it/s]\n",
            "\u001b[32m2021-12-02 00:35:09\u001b[0m \u001b[35m7185bf23d876\u001b[0m \u001b[34mroot[401078]\u001b[0m \u001b[1;30mINFO\u001b[0m Episode 5/50 - Train Position: +$9656.355507944272  Val Position: +$13.264155870590645  Train Loss: 0.0008466377621516585)\n",
            "9/9 [==============================] - 0s 8ms/step - loss: 9.2252e-04\n",
            "Episode 6/50: 100% 261/262 [00:11<00:00, 23.17it/s]\n",
            "\u001b[32m2021-12-02 00:35:33\u001b[0m \u001b[35m7185bf23d876\u001b[0m \u001b[34mroot[401078]\u001b[0m \u001b[1;30mINFO\u001b[0m Episode 6/50 - Train Position: +$4590.954669347217  Val Position: +$10.809707374450461  Train Loss: 0.0009225224494002759)\n",
            "9/9 [==============================] - 0s 9ms/step - loss: 6.8209e-04\n",
            "Episode 7/50: 100% 261/262 [00:11<00:00, 22.40it/s]\n",
            "\u001b[32m2021-12-02 00:35:56\u001b[0m \u001b[35m7185bf23d876\u001b[0m \u001b[34mroot[401078]\u001b[0m \u001b[1;30mINFO\u001b[0m Episode 7/50 - Train Position: +$9806.573070931654  Val Position: +$15.666092698205492  Train Loss: 0.000682091573253274)\n",
            "9/9 [==============================] - 0s 8ms/step - loss: 7.7520e-04\n",
            "Episode 8/50: 100% 261/262 [00:11<00:00, 22.58it/s]\n",
            "\u001b[32m2021-12-02 00:36:20\u001b[0m \u001b[35m7185bf23d876\u001b[0m \u001b[34mroot[401078]\u001b[0m \u001b[1;30mINFO\u001b[0m Episode 8/50 - Train Position: +$9129.851984979263  Val Position: +$16.238180550123516  Train Loss: 0.0007752045639790595)\n",
            "9/9 [==============================] - 0s 8ms/step - loss: 5.6239e-04\n",
            "Episode 9/50: 100% 261/262 [00:11<00:00, 23.30it/s]\n",
            "\u001b[32m2021-12-02 00:36:44\u001b[0m \u001b[35m7185bf23d876\u001b[0m \u001b[34mroot[401078]\u001b[0m \u001b[1;30mINFO\u001b[0m Episode 9/50 - Train Position: +$13177.622549794522  Val Position: +$16.02424261062897  Train Loss: 0.0005623859469778836)\n",
            "Episode 10/50:   0% 0/262 [00:00<?, ?it/s]2021-12-02 00:36:45.026239: W tensorflow/python/util/util.cc:368] Sets are not currently considered sequences, but this may change in the future, so consider avoiding using them.\n",
            "INFO:tensorflow:Assets written to: models/pg_1638405405_10/assets\n",
            "\u001b[32m2021-12-02 00:36:45\u001b[0m \u001b[35m7185bf23d876\u001b[0m \u001b[34mtensorflow[401078]\u001b[0m \u001b[1;30mINFO\u001b[0m Assets written to: models/pg_1638405405_10/assets\n",
            "9/9 [==============================] - 0s 8ms/step - loss: 7.0398e-04\n",
            "Episode 10/50: 100% 261/262 [00:12<00:00, 21.20it/s]\n",
            "\u001b[32m2021-12-02 00:37:09\u001b[0m \u001b[35m7185bf23d876\u001b[0m \u001b[34mroot[401078]\u001b[0m \u001b[1;30mINFO\u001b[0m Episode 10/50 - Train Position: +$13056.20642874496  Val Position: +$16.934349147890583  Train Loss: 0.0007039810880087316)\n",
            "9/9 [==============================] - 0s 9ms/step - loss: 0.0013\n",
            "Episode 11/50: 100% 261/262 [00:11<00:00, 23.26it/s]\n",
            "\u001b[32m2021-12-02 00:37:33\u001b[0m \u001b[35m7185bf23d876\u001b[0m \u001b[34mroot[401078]\u001b[0m \u001b[1;30mINFO\u001b[0m Episode 11/50 - Train Position: +$13261.59905960733  Val Position: +$15.99823566452757  Train Loss: 0.0012550012907013297)\n",
            "9/9 [==============================] - 0s 9ms/step - loss: 6.0031e-04\n",
            "Episode 12/50: 100% 261/262 [00:11<00:00, 22.85it/s]\n",
            "\u001b[32m2021-12-02 00:37:57\u001b[0m \u001b[35m7185bf23d876\u001b[0m \u001b[34mroot[401078]\u001b[0m \u001b[1;30mINFO\u001b[0m Episode 12/50 - Train Position: +$15013.572622168052  Val Position: +$16.819304297171474  Train Loss: 0.0006003104499541223)\n",
            "9/9 [==============================] - 0s 8ms/step - loss: 5.3750e-04\n",
            "Episode 13/50: 100% 261/262 [00:11<00:00, 22.56it/s]\n",
            "\u001b[32m2021-12-02 00:38:20\u001b[0m \u001b[35m7185bf23d876\u001b[0m \u001b[34mroot[401078]\u001b[0m \u001b[1;30mINFO\u001b[0m Episode 13/50 - Train Position: +$12006.316510272578  Val Position: +$16.82688407369746  Train Loss: 0.0005375001346692443)\n",
            "9/9 [==============================] - 0s 8ms/step - loss: 5.4191e-04\n",
            "Episode 14/50: 100% 261/262 [00:11<00:00, 23.11it/s]\n",
            "\u001b[32m2021-12-02 00:38:44\u001b[0m \u001b[35m7185bf23d876\u001b[0m \u001b[34mroot[401078]\u001b[0m \u001b[1;30mINFO\u001b[0m Episode 14/50 - Train Position: +$13052.436255007144  Val Position: +$16.302220207641227  Train Loss: 0.0005419077933765948)\n",
            "9/9 [==============================] - 0s 8ms/step - loss: 5.6819e-04\n",
            "Episode 15/50: 100% 261/262 [00:11<00:00, 23.24it/s]\n",
            "\u001b[32m2021-12-02 00:39:08\u001b[0m \u001b[35m7185bf23d876\u001b[0m \u001b[34mroot[401078]\u001b[0m \u001b[1;30mINFO\u001b[0m Episode 15/50 - Train Position: +$13372.17152877905  Val Position: +$16.84443486353084  Train Loss: 0.0005681855254806578)\n",
            "9/9 [==============================] - 0s 9ms/step - loss: 5.6320e-04\n",
            "Episode 16/50: 100% 261/262 [00:11<00:00, 23.18it/s]\n",
            "\u001b[32m2021-12-02 00:39:32\u001b[0m \u001b[35m7185bf23d876\u001b[0m \u001b[34mroot[401078]\u001b[0m \u001b[1;30mINFO\u001b[0m Episode 16/50 - Train Position: +$15510.916274401112  Val Position: +$16.56036835423019  Train Loss: 0.0005631954409182072)\n",
            "9/9 [==============================] - 0s 8ms/step - loss: 5.3336e-04\n",
            "Episode 17/50: 100% 261/262 [00:11<00:00, 22.22it/s]\n",
            "\u001b[32m2021-12-02 00:39:56\u001b[0m \u001b[35m7185bf23d876\u001b[0m \u001b[34mroot[401078]\u001b[0m \u001b[1;30mINFO\u001b[0m Episode 17/50 - Train Position: +$14546.616878624856  Val Position: +$16.82688407369746  Train Loss: 0.0005333630833774805)\n",
            "9/9 [==============================] - 0s 9ms/step - loss: 5.8884e-04\n",
            "Episode 18/50: 100% 261/262 [00:11<00:00, 22.75it/s]\n",
            "\u001b[32m2021-12-02 00:40:20\u001b[0m \u001b[35m7185bf23d876\u001b[0m \u001b[34mroot[401078]\u001b[0m \u001b[1;30mINFO\u001b[0m Episode 18/50 - Train Position: +$14706.493796524079  Val Position: +$16.77782126183587  Train Loss: 0.0005888389423489571)\n",
            "9/9 [==============================] - 0s 8ms/step - loss: 5.6977e-04\n",
            "Episode 19/50: 100% 261/262 [00:11<00:00, 22.84it/s]\n",
            "\u001b[32m2021-12-02 00:40:44\u001b[0m \u001b[35m7185bf23d876\u001b[0m \u001b[34mroot[401078]\u001b[0m \u001b[1;30mINFO\u001b[0m Episode 19/50 - Train Position: +$14617.510399049152  Val Position: +$16.921896003449522  Train Loss: 0.0005697704618796706)\n",
            "9/9 [==============================] - 0s 9ms/step - loss: 0.0010\n",
            "Episode 20/50: 100% 261/262 [00:11<00:00, 23.21it/s]\n",
            "\u001b[32m2021-12-02 00:41:08\u001b[0m \u001b[35m7185bf23d876\u001b[0m \u001b[34mroot[401078]\u001b[0m \u001b[1;30mINFO\u001b[0m Episode 20/50 - Train Position: +$13510.484333176491  Val Position: +$16.850900425879043  Train Loss: 0.0010021828347817063)\n",
            "9/9 [==============================] - 0s 9ms/step - loss: 5.6647e-04\n",
            "Episode 21/50: 100% 261/262 [00:11<00:00, 22.32it/s]\n",
            "\u001b[32m2021-12-02 00:41:32\u001b[0m \u001b[35m7185bf23d876\u001b[0m \u001b[34mroot[401078]\u001b[0m \u001b[1;30mINFO\u001b[0m Episode 21/50 - Train Position: +$14504.334195161802  Val Position: +$16.84871820430865  Train Loss: 0.0005664699710905552)\n",
            "9/9 [==============================] - 0s 8ms/step - loss: 4.2347e-04\n",
            "Episode 22/50: 100% 261/262 [00:11<00:00, 22.82it/s]\n",
            "\u001b[32m2021-12-02 00:41:56\u001b[0m \u001b[35m7185bf23d876\u001b[0m \u001b[34mroot[401078]\u001b[0m \u001b[1;30mINFO\u001b[0m Episode 22/50 - Train Position: +$13362.369413562072  Val Position: +$16.734699212425664  Train Loss: 0.0004234708030708134)\n",
            "9/9 [==============================] - 0s 8ms/step - loss: 7.1549e-04\n",
            "Episode 23/50: 100% 261/262 [00:11<00:00, 23.24it/s]\n",
            "\u001b[32m2021-12-02 00:42:20\u001b[0m \u001b[35m7185bf23d876\u001b[0m \u001b[34mroot[401078]\u001b[0m \u001b[1;30mINFO\u001b[0m Episode 23/50 - Train Position: +$14997.453481111677  Val Position: +$16.707655734164792  Train Loss: 0.0007154908962547779)\n",
            "9/9 [==============================] - 0s 9ms/step - loss: 5.2088e-04\n",
            "Episode 24/50: 100% 261/262 [00:11<00:00, 23.41it/s]\n",
            "\u001b[32m2021-12-02 00:42:43\u001b[0m \u001b[35m7185bf23d876\u001b[0m \u001b[34mroot[401078]\u001b[0m \u001b[1;30mINFO\u001b[0m Episode 24/50 - Train Position: +$13751.748302247464  Val Position: +$16.707655734164792  Train Loss: 0.000520882778801024)\n",
            "9/9 [==============================] - 0s 9ms/step - loss: 2.3717e-04\n",
            "Episode 25/50: 100% 261/262 [00:11<00:00, 22.71it/s]\n",
            "\u001b[32m2021-12-02 00:43:07\u001b[0m \u001b[35m7185bf23d876\u001b[0m \u001b[34mroot[401078]\u001b[0m \u001b[1;30mINFO\u001b[0m Episode 25/50 - Train Position: +$15720.182166653294  Val Position: +$16.51951868716733  Train Loss: 0.00023717358999419957)\n",
            "9/9 [==============================] - 0s 8ms/step - loss: 3.5935e-04\n",
            "Episode 26/50: 100% 261/262 [00:11<00:00, 23.34it/s]\n",
            "\u001b[32m2021-12-02 00:43:30\u001b[0m \u001b[35m7185bf23d876\u001b[0m \u001b[34mroot[401078]\u001b[0m \u001b[1;30mINFO\u001b[0m Episode 26/50 - Train Position: +$15747.143638555131  Val Position: +$16.364634259140654  Train Loss: 0.00035934720654040575)\n",
            "9/9 [==============================] - 0s 8ms/step - loss: 4.5898e-04\n",
            "Episode 27/50: 100% 261/262 [00:11<00:00, 23.28it/s]\n",
            "\u001b[32m2021-12-02 00:43:54\u001b[0m \u001b[35m7185bf23d876\u001b[0m \u001b[34mroot[401078]\u001b[0m \u001b[1;30mINFO\u001b[0m Episode 27/50 - Train Position: +$14828.854279481  Val Position: +$16.049274262406488  Train Loss: 0.00045897834934294224)\n",
            "9/9 [==============================] - 0s 8ms/step - loss: 6.5585e-04\n",
            "Episode 28/50: 100% 261/262 [00:11<00:00, 23.26it/s]\n",
            "\u001b[32m2021-12-02 00:44:18\u001b[0m \u001b[35m7185bf23d876\u001b[0m \u001b[34mroot[401078]\u001b[0m \u001b[1;30mINFO\u001b[0m Episode 28/50 - Train Position: +$15002.781759613503  Val Position: +$16.49657188630123  Train Loss: 0.0006558539462275803)\n",
            "9/9 [==============================] - 0s 8ms/step - loss: 7.7477e-04\n",
            "Episode 29/50: 100% 261/262 [00:11<00:00, 22.43it/s]\n",
            "\u001b[32m2021-12-02 00:44:41\u001b[0m \u001b[35m7185bf23d876\u001b[0m \u001b[34mroot[401078]\u001b[0m \u001b[1;30mINFO\u001b[0m Episode 29/50 - Train Position: +$14953.990849297965  Val Position: +$16.8689900509257  Train Loss: 0.0007747687632218003)\n",
            "9/9 [==============================] - 0s 9ms/step - loss: 4.9178e-04\n",
            "Episode 30/50: 100% 261/262 [00:11<00:00, 22.79it/s]\n",
            "\u001b[32m2021-12-02 00:45:06\u001b[0m \u001b[35m7185bf23d876\u001b[0m \u001b[34mroot[401078]\u001b[0m \u001b[1;30mINFO\u001b[0m Episode 30/50 - Train Position: +$15099.805313232657  Val Position: +$16.886134385325565  Train Loss: 0.000491784478072077)\n",
            "9/9 [==============================] - 0s 8ms/step - loss: 2.5964e-04\n",
            "Episode 31/50: 100% 261/262 [00:11<00:00, 23.35it/s]\n",
            "\u001b[32m2021-12-02 00:45:29\u001b[0m \u001b[35m7185bf23d876\u001b[0m \u001b[34mroot[401078]\u001b[0m \u001b[1;30mINFO\u001b[0m Episode 31/50 - Train Position: +$15102.594447310921  Val Position: +$16.694091182430054  Train Loss: 0.00025964336236938834)\n",
            "9/9 [==============================] - 0s 8ms/step - loss: 3.8444e-04\n",
            "Episode 32/50: 100% 261/262 [00:11<00:00, 23.32it/s]\n",
            "\u001b[32m2021-12-02 00:45:53\u001b[0m \u001b[35m7185bf23d876\u001b[0m \u001b[34mroot[401078]\u001b[0m \u001b[1;30mINFO\u001b[0m Episode 32/50 - Train Position: +$15005.566231516379  Val Position: +$16.848255677821268  Train Loss: 0.00038444052916020155)\n",
            "9/9 [==============================] - 0s 9ms/step - loss: 2.5733e-04\n",
            "Episode 33/50: 100% 261/262 [00:11<00:00, 22.99it/s]\n",
            "\u001b[32m2021-12-02 00:46:16\u001b[0m \u001b[35m7185bf23d876\u001b[0m \u001b[34mroot[401078]\u001b[0m \u001b[1;30mINFO\u001b[0m Episode 33/50 - Train Position: +$15550.918383399468  Val Position: +$16.732305826650755  Train Loss: 0.0002573287929408252)\n",
            "9/9 [==============================] - 0s 8ms/step - loss: 3.1191e-04\n",
            "Episode 34/50: 100% 261/262 [00:11<00:00, 23.29it/s]\n",
            "\u001b[32m2021-12-02 00:46:40\u001b[0m \u001b[35m7185bf23d876\u001b[0m \u001b[34mroot[401078]\u001b[0m \u001b[1;30mINFO\u001b[0m Episode 34/50 - Train Position: +$16446.733509155016  Val Position: +$16.4720623244767  Train Loss: 0.00031191325979307294)\n",
            "9/9 [==============================] - 0s 8ms/step - loss: 3.6688e-04\n",
            "Episode 35/50: 100% 261/262 [00:11<00:00, 23.45it/s]\n",
            "\u001b[32m2021-12-02 00:47:04\u001b[0m \u001b[35m7185bf23d876\u001b[0m \u001b[34mroot[401078]\u001b[0m \u001b[1;30mINFO\u001b[0m Episode 35/50 - Train Position: +$14002.190304802712  Val Position: +$16.28836356731794  Train Loss: 0.00036688082036562264)\n",
            "9/9 [==============================] - 0s 8ms/step - loss: 1.7658e-04\n",
            "Episode 36/50: 100% 261/262 [00:11<00:00, 23.33it/s]\n",
            "\u001b[32m2021-12-02 00:47:27\u001b[0m \u001b[35m7185bf23d876\u001b[0m \u001b[34mroot[401078]\u001b[0m \u001b[1;30mINFO\u001b[0m Episode 36/50 - Train Position: +$15855.734257369188  Val Position: +$16.4720623244767  Train Loss: 0.00017658266006037593)\n",
            "9/9 [==============================] - 0s 8ms/step - loss: 4.2241e-04\n",
            "Episode 37/50: 100% 261/262 [00:11<00:00, 23.05it/s]\n",
            "\u001b[32m2021-12-02 00:47:51\u001b[0m \u001b[35m7185bf23d876\u001b[0m \u001b[34mroot[401078]\u001b[0m \u001b[1;30mINFO\u001b[0m Episode 37/50 - Train Position: +$14467.604939938792  Val Position: +$16.68236741736941  Train Loss: 0.000422411278123036)\n",
            "9/9 [==============================] - 0s 9ms/step - loss: 2.3965e-04\n",
            "Episode 38/50: 100% 261/262 [00:11<00:00, 23.09it/s]\n",
            "\u001b[32m2021-12-02 00:48:14\u001b[0m \u001b[35m7185bf23d876\u001b[0m \u001b[34mroot[401078]\u001b[0m \u001b[1;30mINFO\u001b[0m Episode 38/50 - Train Position: +$16283.329135700676  Val Position: +$16.803626529558404  Train Loss: 0.00023964568390510976)\n",
            "9/9 [==============================] - 0s 9ms/step - loss: 2.4575e-04\n",
            "Episode 39/50: 100% 261/262 [00:11<00:00, 23.58it/s]\n",
            "\u001b[32m2021-12-02 00:48:38\u001b[0m \u001b[35m7185bf23d876\u001b[0m \u001b[34mroot[401078]\u001b[0m \u001b[1;30mINFO\u001b[0m Episode 39/50 - Train Position: +$14962.298045587133  Val Position: +$16.81879580879715  Train Loss: 0.00024574677809141576)\n",
            "9/9 [==============================] - 0s 9ms/step - loss: 2.9565e-04\n",
            "Episode 40/50: 100% 261/262 [00:11<00:00, 23.19it/s]\n",
            "\u001b[32m2021-12-02 00:49:01\u001b[0m \u001b[35m7185bf23d876\u001b[0m \u001b[34mroot[401078]\u001b[0m \u001b[1;30mINFO\u001b[0m Episode 40/50 - Train Position: +$16935.297088594256  Val Position: +$16.75368812027705  Train Loss: 0.0002956456155516207)\n",
            "9/9 [==============================] - 0s 9ms/step - loss: 2.2469e-04\n",
            "Episode 41/50: 100% 261/262 [00:11<00:00, 22.58it/s]\n",
            "\u001b[32m2021-12-02 00:49:25\u001b[0m \u001b[35m7185bf23d876\u001b[0m \u001b[34mroot[401078]\u001b[0m \u001b[1;30mINFO\u001b[0m Episode 41/50 - Train Position: +$15358.229180660248  Val Position: +$16.75368812027705  Train Loss: 0.00022469165560323745)\n",
            "9/9 [==============================] - 0s 8ms/step - loss: 1.1497e-04\n",
            "Episode 42/50: 100% 261/262 [00:11<00:00, 22.46it/s]\n",
            "\u001b[32m2021-12-02 00:49:49\u001b[0m \u001b[35m7185bf23d876\u001b[0m \u001b[34mroot[401078]\u001b[0m \u001b[1;30mINFO\u001b[0m Episode 42/50 - Train Position: +$16150.433405339916  Val Position: +$16.768857399515806  Train Loss: 0.0001149745294242166)\n",
            "9/9 [==============================] - 0s 9ms/step - loss: 1.0567e-04\n",
            "Episode 43/50: 100% 261/262 [00:11<00:00, 23.24it/s]\n",
            "\u001b[32m2021-12-02 00:50:13\u001b[0m \u001b[35m7185bf23d876\u001b[0m \u001b[34mroot[401078]\u001b[0m \u001b[1;30mINFO\u001b[0m Episode 43/50 - Train Position: +$16420.784797745455  Val Position: +$16.67746246508575  Train Loss: 0.00010567381832515821)\n",
            "9/9 [==============================] - 0s 8ms/step - loss: 4.2149e-04\n",
            "Episode 44/50: 100% 261/262 [00:11<00:00, 23.37it/s]\n",
            "\u001b[32m2021-12-02 00:50:36\u001b[0m \u001b[35m7185bf23d876\u001b[0m \u001b[34mroot[401078]\u001b[0m \u001b[1;30mINFO\u001b[0m Episode 44/50 - Train Position: +$16258.195513381626  Val Position: +$16.992827244665836  Train Loss: 0.000421487056883052)\n",
            "9/9 [==============================] - 0s 9ms/step - loss: 7.2966e-04\n",
            "Episode 45/50: 100% 261/262 [00:11<00:00, 22.30it/s]\n",
            "\u001b[32m2021-12-02 00:51:00\u001b[0m \u001b[35m7185bf23d876\u001b[0m \u001b[34mroot[401078]\u001b[0m \u001b[1;30mINFO\u001b[0m Episode 45/50 - Train Position: +$16020.924291268242  Val Position: +$16.8901165117048  Train Loss: 0.0007296590483747423)\n",
            "9/9 [==============================] - 0s 9ms/step - loss: 2.3891e-04\n",
            "Episode 46/50: 100% 261/262 [00:11<00:00, 22.44it/s]\n",
            "\u001b[32m2021-12-02 00:51:24\u001b[0m \u001b[35m7185bf23d876\u001b[0m \u001b[34mroot[401078]\u001b[0m \u001b[1;30mINFO\u001b[0m Episode 46/50 - Train Position: +$16232.392228146924  Val Position: +$16.60753637770817  Train Loss: 0.00023891076853033155)\n",
            "9/9 [==============================] - 0s 9ms/step - loss: 3.9733e-04\n",
            "Episode 47/50: 100% 261/262 [00:11<00:00, 22.67it/s]\n",
            "\u001b[32m2021-12-02 00:51:48\u001b[0m \u001b[35m7185bf23d876\u001b[0m \u001b[34mroot[401078]\u001b[0m \u001b[1;30mINFO\u001b[0m Episode 47/50 - Train Position: +$15942.945385701401  Val Position: +$16.553418855703118  Train Loss: 0.00039732808363623917)\n",
            "9/9 [==============================] - 0s 8ms/step - loss: 2.3708e-04\n",
            "Episode 48/50: 100% 261/262 [00:11<00:00, 22.93it/s]\n",
            "\u001b[32m2021-12-02 00:52:12\u001b[0m \u001b[35m7185bf23d876\u001b[0m \u001b[34mroot[401078]\u001b[0m \u001b[1;30mINFO\u001b[0m Episode 48/50 - Train Position: +$15657.943473582718  Val Position: +$16.477803757176392  Train Loss: 0.00023708492517471313)\n",
            "9/9 [==============================] - 0s 9ms/step - loss: 1.4264e-04\n",
            "Episode 49/50: 100% 261/262 [00:11<00:00, 22.64it/s]\n",
            "\u001b[32m2021-12-02 00:52:36\u001b[0m \u001b[35m7185bf23d876\u001b[0m \u001b[34mroot[401078]\u001b[0m \u001b[1;30mINFO\u001b[0m Episode 49/50 - Train Position: +$15957.9476494102  Val Position: +$16.63268818520307  Train Loss: 0.00014263689809013158)\n",
            "9/9 [==============================] - 0s 8ms/step - loss: 1.8578e-04\n",
            "Episode 50/50: 100% 261/262 [00:11<00:00, 22.52it/s]\n",
            "\u001b[32m2021-12-02 00:53:00\u001b[0m \u001b[35m7185bf23d876\u001b[0m \u001b[34mroot[401078]\u001b[0m \u001b[1;30mINFO\u001b[0m Episode 50/50 - Train Position: +$16310.247348730103  Val Position: +$16.714739877510755  Train Loss: 0.00018577621085569263)\n"
          ]
        }
      ]
    },
    {
      "cell_type": "markdown",
      "metadata": {
        "id": "S6phpL6vn9oX"
      },
      "source": [
        "### Evaluate PHP currency (pg_1638405405_10)"
      ]
    },
    {
      "cell_type": "code",
      "metadata": {
        "colab": {
          "base_uri": "https://localhost:8080/"
        },
        "id": "nuPwhzm4oDSn",
        "outputId": "a9bbb940-f737-45f1-a495-b548f9aab69d"
      },
      "source": [
        "!python evaluate.py --eval data/PHP.csv --model-name PHP_11_09_21 --window-size 10 --verbose True"
      ],
      "execution_count": 23,
      "outputs": [
        {
          "output_type": "stream",
          "name": "stdout",
          "text": [
            "\u001b[32m2021-12-02 00:56:32\u001b[0m \u001b[35m7185bf23d876\u001b[0m \u001b[34mroot[532563]\u001b[0m \u001b[1;30mDEBUG\u001b[0m \u001b[32mSwitching --> TensorFlow for CPU\u001b[0m\n",
            "\u001b[32m2021-12-02 00:56:32\u001b[0m \u001b[35m7185bf23d876\u001b[0m \u001b[34mnumexpr.utils[532563]\u001b[0m \u001b[1;30mINFO\u001b[0m NumExpr defaulting to 2 threads.\n",
            "/usr/local/lib/python3.7/dist-packages/keras/optimizer_v2/adam.py:105: UserWarning:\n",
            "\n",
            "The `lr` argument is deprecated, use `learning_rate` instead.\n",
            "\n",
            "2021-12-02 00:56:32.801975: E tensorflow/stream_executor/cuda/cuda_driver.cc:271] failed call to cuInit: CUDA_ERROR_NO_DEVICE: no CUDA-capable device is detected\n",
            "Model: \"sequential\"\n",
            "_________________________________________________________________\n",
            " Layer (type)                Output Shape              Param #   \n",
            "=================================================================\n",
            " dense (Dense)               (None, 256)               7424      \n",
            "                                                                 \n",
            " dense_1 (Dense)             (None, 512)               131584    \n",
            "                                                                 \n",
            " dense_2 (Dense)             (None, 512)               262656    \n",
            "                                                                 \n",
            " dense_3 (Dense)             (None, 256)               131328    \n",
            "                                                                 \n",
            " dense_4 (Dense)             (None, 3)                 771       \n",
            "                                                                 \n",
            "=================================================================\n",
            "Total params: 533,763\n",
            "Trainable params: 533,763\n",
            "Non-trainable params: 0\n",
            "_________________________________________________________________\n",
            "\u001b[32m2021-12-02 00:56:45\u001b[0m \u001b[35m7185bf23d876\u001b[0m \u001b[34mroot[532563]\u001b[0m \u001b[1;30mINFO\u001b[0m +$2.459027858931579\n",
            "\n"
          ]
        }
      ]
    }
  ]
}